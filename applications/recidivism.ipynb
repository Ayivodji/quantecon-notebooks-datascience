{
 "cells": [
  {
   "cell_type": "markdown",
   "metadata": {},
   "source": [
    "# Case Study: Recidivism\n",
    "\n",
    "> **Co-authors**\n",
    "- [Paul Schrimpf *UBC*](https://economics.ubc.ca/faculty-and-staff/paul-schrimpf/)\n",
    "- [Arnav Sood *UBC*](http://arnavsood.com/about/)\n",
    "\n",
    "\n",
    "**Prerequisites**\n",
    "\n",
    "- [matplotlib Introduction](../pandas/matplotlib.ipynb)  \n",
    "- [Visualization Rules](visualization_rules.ipynb)  \n",
    "- [Regression](regression.ipynb)  \n",
    "\n",
    "\n",
    "**Outcomes**\n",
    "\n",
    "- See an end-to-end data science exercise  \n",
    "- Application of regression  "
   ]
  },
  {
   "cell_type": "markdown",
   "metadata": {},
   "source": [
    "## Outline\n",
    "\n",
    "- [Case Study: Recidivism](#Case-Study:-Recidivism)  \n",
    "  - [Introduction to Recidivism](#Introduction-to-Recidivism)  \n",
    "  - [Data Description](#Data-Description)  \n",
    "  - [Descriptive Statistics](#Descriptive-Statistics)  \n",
    "  - [Regression](#Regression)  \n",
    "  - [References](#References)  \n",
    "  - [Exercises](#Exercises)  "
   ]
  },
  {
   "cell_type": "code",
   "execution_count": 1,
   "metadata": {
    "hide-output": false
   },
   "outputs": [],
   "source": [
    "# Uncomment following line to install on colab\n",
    "#! pip install qeds fiona geopandas xgboost gensim folium pyLDAvis descartes"
   ]
  },
  {
   "cell_type": "code",
   "execution_count": 2,
   "metadata": {
    "hide-output": false
   },
   "outputs": [],
   "source": [
    "import matplotlib.pyplot as plt\n",
    "import numpy as np\n",
    "import pandas as pd\n",
    "import seaborn as sns\n",
    "\n",
    "from sklearn import (\n",
    "    linear_model, metrics, neural_network, pipeline, preprocessing, model_selection\n",
    ")\n",
    "\n",
    "%matplotlib inline\n",
    "# activate plot theme\n",
    "import qeds\n",
    "qeds.themes.mpl_style();"
   ]
  },
  {
   "cell_type": "markdown",
   "metadata": {},
   "source": [
    "## Introduction to Recidivism\n",
    "\n",
    "Recidivism is the tendency for an individual who has previously committed a crime to commit another crime\n",
    "in the future.\n",
    "\n",
    "One key input to a judge’s sentencing decision is how likely a given convict is to re-offend, or recidivate.\n",
    "\n",
    "In an effort to assist the legal system with sentencing guidelines, data scientists have attempted\n",
    "to predict an individual’s risk of recidivism from known observables.\n",
    "\n",
    "Some are concerned that this process may exhibit prejudice, either through biased inputs\n",
    "or through statistical discrimination.\n",
    "\n",
    "For example,\n",
    "\n",
    "1. Biased inputs: Imagine that a judge often writes harsher sentences to people of a particular race or gender. If an algorithm is trained to reproduce the sentences of this judge, the bias will be propagated by the algorithm.  \n",
    "1. Statistical discrimination: Imagine that two variables (say race and income) are correlated, and one of them (say income) is correlated with the risk of recidivism. If income is unobserved, then an otherwise unbiased method would discriminate based on race, even if race has nothing to say about recidivism after controlling for income.  \n",
    "\n",
    "\n",
    "This has given rise to serious discussions about the moral obligations data scientists have to\n",
    "those who are affected by their tools.\n",
    "\n",
    "We will not take a stance today on our moral obligations, but we believe this is an important\n",
    "precursor to any statistical work with public policy applications.\n",
    "\n",
    "One predictive tool used by various courts in the United States is\n",
    "called COMPAS (Correctional Offender Management Profiling for Alternative Sanctions).\n",
    "\n",
    "We will be following a [Pro Publica](https://www.propublica.org/article/machine-bias-risk-assessments-in-criminal-sentencing)\n",
    "article that analyzes the output of COMPAS.\n",
    "\n",
    "The findings of the article include:\n",
    "\n",
    "- Black defendants were often predicted to be at a higher risk of recidivism than they actually were.  \n",
    "- White defendants were often predicted to be less risky than they were.  \n",
    "- When controlling for prior crimes, future recidivism, age, and gender, black defendants were 45\n",
    "  percent more likely to be assigned higher risk scores than white defendants.  \n",
    "- Black defendants were twice as likely as white defendants to be misclassified as being a higher\n",
    "  risk of violent recidivism.  \n",
    "- Even when controlling for prior crimes, future recidivism, age, and gender, black defendants were\n",
    "  77 percent more likely to be assigned higher risk scores than white defendants.  "
   ]
  },
  {
   "cell_type": "markdown",
   "metadata": {},
   "source": [
    "## Data Description\n",
    "\n",
    "The authors of this article filed a public records request with the Broward County Sheriff’s office\n",
    "in Florida.\n",
    "\n",
    "Luckily for us, they did a significant amount of the legwork which is described in this\n",
    "[methodology article](https://www.propublica.org/article/how-we-analyzed-the-compas-recidivism-algorithm).\n",
    "\n",
    "We download the data below."
   ]
  },
  {
   "cell_type": "code",
   "execution_count": 3,
   "metadata": {
    "hide-output": false
   },
   "outputs": [
    {
     "data": {
      "text/html": [
       "<div>\n",
       "<style scoped>\n",
       "    .dataframe tbody tr th:only-of-type {\n",
       "        vertical-align: middle;\n",
       "    }\n",
       "\n",
       "    .dataframe tbody tr th {\n",
       "        vertical-align: top;\n",
       "    }\n",
       "\n",
       "    .dataframe thead th {\n",
       "        text-align: right;\n",
       "    }\n",
       "</style>\n",
       "<table border=\"1\" class=\"dataframe\">\n",
       "  <thead>\n",
       "    <tr style=\"text-align: right;\">\n",
       "      <th></th>\n",
       "      <th>id</th>\n",
       "      <th>name</th>\n",
       "      <th>first</th>\n",
       "      <th>last</th>\n",
       "      <th>compas_screening_date</th>\n",
       "      <th>sex</th>\n",
       "      <th>dob</th>\n",
       "      <th>age</th>\n",
       "      <th>age_cat</th>\n",
       "      <th>race</th>\n",
       "      <th>...</th>\n",
       "      <th>v_decile_score</th>\n",
       "      <th>v_score_text</th>\n",
       "      <th>v_screening_date</th>\n",
       "      <th>in_custody</th>\n",
       "      <th>out_custody</th>\n",
       "      <th>priors_count.1</th>\n",
       "      <th>start</th>\n",
       "      <th>end</th>\n",
       "      <th>event</th>\n",
       "      <th>two_year_recid</th>\n",
       "    </tr>\n",
       "  </thead>\n",
       "  <tbody>\n",
       "    <tr>\n",
       "      <th>0</th>\n",
       "      <td>1</td>\n",
       "      <td>miguel hernandez</td>\n",
       "      <td>miguel</td>\n",
       "      <td>hernandez</td>\n",
       "      <td>2013-08-14</td>\n",
       "      <td>Male</td>\n",
       "      <td>1947-04-18</td>\n",
       "      <td>69</td>\n",
       "      <td>Greater than 45</td>\n",
       "      <td>Other</td>\n",
       "      <td>...</td>\n",
       "      <td>1</td>\n",
       "      <td>Low</td>\n",
       "      <td>2013-08-14</td>\n",
       "      <td>2014-07-07</td>\n",
       "      <td>2014-07-14</td>\n",
       "      <td>0</td>\n",
       "      <td>0</td>\n",
       "      <td>327</td>\n",
       "      <td>0</td>\n",
       "      <td>0</td>\n",
       "    </tr>\n",
       "    <tr>\n",
       "      <th>1</th>\n",
       "      <td>3</td>\n",
       "      <td>kevon dixon</td>\n",
       "      <td>kevon</td>\n",
       "      <td>dixon</td>\n",
       "      <td>2013-01-27</td>\n",
       "      <td>Male</td>\n",
       "      <td>1982-01-22</td>\n",
       "      <td>34</td>\n",
       "      <td>25 - 45</td>\n",
       "      <td>African-American</td>\n",
       "      <td>...</td>\n",
       "      <td>1</td>\n",
       "      <td>Low</td>\n",
       "      <td>2013-01-27</td>\n",
       "      <td>2013-01-26</td>\n",
       "      <td>2013-02-05</td>\n",
       "      <td>0</td>\n",
       "      <td>9</td>\n",
       "      <td>159</td>\n",
       "      <td>1</td>\n",
       "      <td>1</td>\n",
       "    </tr>\n",
       "    <tr>\n",
       "      <th>2</th>\n",
       "      <td>4</td>\n",
       "      <td>ed philo</td>\n",
       "      <td>ed</td>\n",
       "      <td>philo</td>\n",
       "      <td>2013-04-14</td>\n",
       "      <td>Male</td>\n",
       "      <td>1991-05-14</td>\n",
       "      <td>24</td>\n",
       "      <td>Less than 25</td>\n",
       "      <td>African-American</td>\n",
       "      <td>...</td>\n",
       "      <td>3</td>\n",
       "      <td>Low</td>\n",
       "      <td>2013-04-14</td>\n",
       "      <td>2013-06-16</td>\n",
       "      <td>2013-06-16</td>\n",
       "      <td>4</td>\n",
       "      <td>0</td>\n",
       "      <td>63</td>\n",
       "      <td>0</td>\n",
       "      <td>1</td>\n",
       "    </tr>\n",
       "    <tr>\n",
       "      <th>3</th>\n",
       "      <td>5</td>\n",
       "      <td>marcu brown</td>\n",
       "      <td>marcu</td>\n",
       "      <td>brown</td>\n",
       "      <td>2013-01-13</td>\n",
       "      <td>Male</td>\n",
       "      <td>1993-01-21</td>\n",
       "      <td>23</td>\n",
       "      <td>Less than 25</td>\n",
       "      <td>African-American</td>\n",
       "      <td>...</td>\n",
       "      <td>6</td>\n",
       "      <td>Medium</td>\n",
       "      <td>2013-01-13</td>\n",
       "      <td>NaN</td>\n",
       "      <td>NaN</td>\n",
       "      <td>1</td>\n",
       "      <td>0</td>\n",
       "      <td>1174</td>\n",
       "      <td>0</td>\n",
       "      <td>0</td>\n",
       "    </tr>\n",
       "    <tr>\n",
       "      <th>4</th>\n",
       "      <td>6</td>\n",
       "      <td>bouthy pierrelouis</td>\n",
       "      <td>bouthy</td>\n",
       "      <td>pierrelouis</td>\n",
       "      <td>2013-03-26</td>\n",
       "      <td>Male</td>\n",
       "      <td>1973-01-22</td>\n",
       "      <td>43</td>\n",
       "      <td>25 - 45</td>\n",
       "      <td>Other</td>\n",
       "      <td>...</td>\n",
       "      <td>1</td>\n",
       "      <td>Low</td>\n",
       "      <td>2013-03-26</td>\n",
       "      <td>NaN</td>\n",
       "      <td>NaN</td>\n",
       "      <td>2</td>\n",
       "      <td>0</td>\n",
       "      <td>1102</td>\n",
       "      <td>0</td>\n",
       "      <td>0</td>\n",
       "    </tr>\n",
       "  </tbody>\n",
       "</table>\n",
       "<p>5 rows × 53 columns</p>\n",
       "</div>"
      ],
      "text/plain": [
       "   id                name   first         last compas_screening_date   sex  \\\n",
       "0   1    miguel hernandez  miguel    hernandez            2013-08-14  Male   \n",
       "1   3         kevon dixon   kevon        dixon            2013-01-27  Male   \n",
       "2   4            ed philo      ed        philo            2013-04-14  Male   \n",
       "3   5         marcu brown   marcu        brown            2013-01-13  Male   \n",
       "4   6  bouthy pierrelouis  bouthy  pierrelouis            2013-03-26  Male   \n",
       "\n",
       "          dob  age          age_cat              race  ...  v_decile_score  \\\n",
       "0  1947-04-18   69  Greater than 45             Other  ...               1   \n",
       "1  1982-01-22   34          25 - 45  African-American  ...               1   \n",
       "2  1991-05-14   24     Less than 25  African-American  ...               3   \n",
       "3  1993-01-21   23     Less than 25  African-American  ...               6   \n",
       "4  1973-01-22   43          25 - 45             Other  ...               1   \n",
       "\n",
       "   v_score_text  v_screening_date  in_custody  out_custody  priors_count.1  \\\n",
       "0           Low        2013-08-14  2014-07-07   2014-07-14               0   \n",
       "1           Low        2013-01-27  2013-01-26   2013-02-05               0   \n",
       "2           Low        2013-04-14  2013-06-16   2013-06-16               4   \n",
       "3        Medium        2013-01-13         NaN          NaN               1   \n",
       "4           Low        2013-03-26         NaN          NaN               2   \n",
       "\n",
       "  start   end event two_year_recid  \n",
       "0     0   327     0              0  \n",
       "1     9   159     1              1  \n",
       "2     0    63     0              1  \n",
       "3     0  1174     0              0  \n",
       "4     0  1102     0              0  \n",
       "\n",
       "[5 rows x 53 columns]"
      ]
     },
     "execution_count": 3,
     "metadata": {},
     "output_type": "execute_result"
    }
   ],
   "source": [
    "data_url = \"https://raw.githubusercontent.com/propublica/compas-analysis\"\n",
    "data_url += \"/master/compas-scores-two-years.csv\"\n",
    "\n",
    "df = pd.read_csv(data_url)\n",
    "df.head()"
   ]
  },
  {
   "cell_type": "markdown",
   "metadata": {},
   "source": [
    "We summarize some of the variables that we will use.\n",
    "\n",
    "- `first`: An individual’s first name  \n",
    "- `last`: An individual’s last name  \n",
    "- `sex`: An individual’s sex  \n",
    "- `age`: An individual’s age  \n",
    "- `race`: An individual’s race. It takes values of Caucasian, Hispanic, African-American, Native American, Asian, or Other  \n",
    "- `priors_count`: Number of previous arrests  \n",
    "- `decile_score`: The COMPAS risk score  \n",
    "- `two_year_recid`: Whether the individual had been jailed for a new crime in next two years  "
   ]
  },
  {
   "cell_type": "markdown",
   "metadata": {},
   "source": [
    "## Descriptive Statistics\n",
    "\n",
    "The first thing we do with our data is to drop any classes without “enough” observations.\n",
    "\n",
    "One of our focuses will be on inter-race differences in scores and recidivism, so we only\n",
    "keep data on races with at least 500 observations in our data set.\n",
    "\n",
    "Just be aware that this kind of seemingly and even genuinely benign or “technical” decision can still perpetuate inequality by exclusion.\n",
    "\n",
    "For example, Asians are a small minority, so they’re not really present in the data, and therefore they’re absent from the policy discussion — we have no inferential knowledge on how COMPAS scores work for them."
   ]
  },
  {
   "cell_type": "code",
   "execution_count": 4,
   "metadata": {
    "hide-output": false
   },
   "outputs": [
    {
     "name": "stdout",
     "output_type": "stream",
     "text": [
      "The following race have at least 500 observations: ['African-American', 'Caucasian', 'Hispanic']\n"
     ]
    }
   ],
   "source": [
    "race_count = df.groupby([\"race\"])[\"name\"].count()\n",
    "at_least_500 = list(race_count[race_count > 500].index)\n",
    "print(\"The following race have at least 500 observations:\", at_least_500)\n",
    "df = df.loc[df[\"race\"].isin(at_least_500), :]"
   ]
  },
  {
   "cell_type": "markdown",
   "metadata": {},
   "source": [
    "Next, we explore the remaining data using plots and tables."
   ]
  },
  {
   "cell_type": "markdown",
   "metadata": {},
   "source": [
    "### Age, Sex, and Race\n",
    "\n",
    "Let’s look at how the dataset is broken down into age, sex, and race."
   ]
  },
  {
   "cell_type": "code",
   "execution_count": 5,
   "metadata": {
    "hide-output": false
   },
   "outputs": [],
   "source": [
    "def create_groupcount_barplot(df, group_col, figsize, **kwargs):\n",
    "    \"call df.groupby(group_col), then count number of records and plot\"\n",
    "    counts = df.groupby(group_col)[\"name\"].count().sort_index()\n",
    "\n",
    "    fig, ax = plt.subplots(figsize=figsize)\n",
    "    counts.plot(kind=\"bar\", **kwargs)\n",
    "\n",
    "    ax.spines[\"right\"].set_visible(False)\n",
    "    ax.spines[\"top\"].set_visible(False)\n",
    "    ax.set_xlabel(\"\")\n",
    "    ax.set_ylabel(\"\")\n",
    "\n",
    "    return fig, ax"
   ]
  },
  {
   "cell_type": "code",
   "execution_count": 6,
   "metadata": {
    "hide-output": false
   },
   "outputs": [
    {
     "data": {
      "image/png": "[encoded data removed]",
      "text/plain": [
       "<Figure size 1008x576 with 1 Axes>"
      ]
     },
     "metadata": {
      "needs_background": "light"
     },
     "output_type": "display_data"
    }
   ],
   "source": [
    "age_cs = [\"Less than 25\", \"25 - 45\", \"Greater than 45\"]\n",
    "df[\"age_cat\"] = pd.Categorical(df[\"age_cat\"], categories=age_cs, ordered=True)\n",
    "fig, ax = create_groupcount_barplot(df, \"age_cat\", (14, 8), color=\"DarkBlue\", rot=0)"
   ]
  },
  {
   "cell_type": "code",
   "execution_count": 7,
   "metadata": {
    "hide-output": false
   },
   "outputs": [
    {
     "data": {
      "text/plain": [
       "(<Figure size 432x576 with 1 Axes>,\n",
       " <matplotlib.axes._subplots.AxesSubplot at 0x7f1d7fb085c0>)"
      ]
     },
     "execution_count": 7,
     "metadata": {},
     "output_type": "execute_result"
    },
    {
     "data": {
      "image/png": "[encoded data removed]",
      "text/plain": [
       "<Figure size 432x576 with 1 Axes>"
      ]
     },
     "metadata": {
      "needs_background": "light"
     },
     "output_type": "display_data"
    }
   ],
   "source": [
    "sex_cs = [\"Female\", \"Male\"]\n",
    "df[\"sex\"] = pd.Categorical(df[\"sex\"], categories=sex_cs, ordered=True)\n",
    "create_groupcount_barplot(df, \"sex\", (6, 8), color=\"DarkBlue\", rot=0)"
   ]
  },
  {
   "cell_type": "code",
   "execution_count": 8,
   "metadata": {
    "hide-output": false
   },
   "outputs": [
    {
     "data": {
      "text/plain": [
       "(<Figure size 864x576 with 1 Axes>,\n",
       " <matplotlib.axes._subplots.AxesSubplot at 0x7f1d7fa806d8>)"
      ]
     },
     "execution_count": 8,
     "metadata": {},
     "output_type": "execute_result"
    },
    {
     "data": {
      "image/png": "[encoded data removed]",
      "text/plain": [
       "<Figure size 864x576 with 1 Axes>"
      ]
     },
     "metadata": {
      "needs_background": "light"
     },
     "output_type": "display_data"
    }
   ],
   "source": [
    "race_cs = [\"African-American\", \"Caucasian\", \"Hispanic\"]\n",
    "df[\"race\"] = pd.Categorical(df[\"race\"], categories=race_cs, ordered=True)\n",
    "create_groupcount_barplot(df, \"race\", (12, 8), color=\"DarkBlue\", rot=0)"
   ]
  },
  {
   "cell_type": "markdown",
   "metadata": {},
   "source": [
    "From this, we learn that our population is mostly between 25-45, male, and\n",
    "is mostly African-American or Caucasian."
   ]
  },
  {
   "cell_type": "markdown",
   "metadata": {},
   "source": [
    "### Recidivism\n",
    "\n",
    "We now look into how recidivism is split across groups."
   ]
  },
  {
   "cell_type": "code",
   "execution_count": 9,
   "metadata": {
    "hide-output": false
   },
   "outputs": [
    {
     "data": {
      "text/html": [
       "<div>\n",
       "<style scoped>\n",
       "    .dataframe tbody tr th:only-of-type {\n",
       "        vertical-align: middle;\n",
       "    }\n",
       "\n",
       "    .dataframe tbody tr th {\n",
       "        vertical-align: top;\n",
       "    }\n",
       "\n",
       "    .dataframe thead th {\n",
       "        text-align: right;\n",
       "    }\n",
       "</style>\n",
       "<table border=\"1\" class=\"dataframe\">\n",
       "  <thead>\n",
       "    <tr style=\"text-align: right;\">\n",
       "      <th></th>\n",
       "      <th>race</th>\n",
       "      <th>African-American</th>\n",
       "      <th>Caucasian</th>\n",
       "      <th>Hispanic</th>\n",
       "    </tr>\n",
       "    <tr>\n",
       "      <th>age_cat</th>\n",
       "      <th>sex</th>\n",
       "      <th></th>\n",
       "      <th></th>\n",
       "      <th></th>\n",
       "    </tr>\n",
       "  </thead>\n",
       "  <tbody>\n",
       "    <tr>\n",
       "      <th rowspan=\"2\" valign=\"top\">Less than 25</th>\n",
       "      <th>Female</th>\n",
       "      <td>0.449704</td>\n",
       "      <td>0.310345</td>\n",
       "      <td>0.411765</td>\n",
       "    </tr>\n",
       "    <tr>\n",
       "      <th>Male</th>\n",
       "      <td>0.645806</td>\n",
       "      <td>0.541254</td>\n",
       "      <td>0.536364</td>\n",
       "    </tr>\n",
       "    <tr>\n",
       "      <th rowspan=\"2\" valign=\"top\">25 - 45</th>\n",
       "      <th>Female</th>\n",
       "      <td>0.382278</td>\n",
       "      <td>0.423948</td>\n",
       "      <td>0.333333</td>\n",
       "    </tr>\n",
       "    <tr>\n",
       "      <th>Male</th>\n",
       "      <td>0.533074</td>\n",
       "      <td>0.433699</td>\n",
       "      <td>0.375000</td>\n",
       "    </tr>\n",
       "    <tr>\n",
       "      <th rowspan=\"2\" valign=\"top\">Greater than 45</th>\n",
       "      <th>Female</th>\n",
       "      <td>0.227273</td>\n",
       "      <td>0.239766</td>\n",
       "      <td>0.217391</td>\n",
       "    </tr>\n",
       "    <tr>\n",
       "      <th>Male</th>\n",
       "      <td>0.425101</td>\n",
       "      <td>0.289157</td>\n",
       "      <td>0.216667</td>\n",
       "    </tr>\n",
       "  </tbody>\n",
       "</table>\n",
       "</div>"
      ],
      "text/plain": [
       "race                    African-American  Caucasian  Hispanic\n",
       "age_cat         sex                                          \n",
       "Less than 25    Female          0.449704   0.310345  0.411765\n",
       "                Male            0.645806   0.541254  0.536364\n",
       "25 - 45         Female          0.382278   0.423948  0.333333\n",
       "                Male            0.533074   0.433699  0.375000\n",
       "Greater than 45 Female          0.227273   0.239766  0.217391\n",
       "                Male            0.425101   0.289157  0.216667"
      ]
     },
     "execution_count": 9,
     "metadata": {},
     "output_type": "execute_result"
    }
   ],
   "source": [
    "recid = df.groupby([\"age_cat\", \"sex\", \"race\"])[\"two_year_recid\"].mean().unstack(level=\"race\")\n",
    "recid"
   ]
  },
  {
   "cell_type": "markdown",
   "metadata": {},
   "source": [
    "In the table, we see that the young have higher recidivism rates than the old, except for among\n",
    "Caucasian females.\n",
    "\n",
    "Also, African-American males are at a particularly high risk of recidivism even as they get older."
   ]
  },
  {
   "cell_type": "markdown",
   "metadata": {},
   "source": [
    "### Risk Scores\n",
    "\n",
    "Each individual in the dataset was assigned a `decile_score` ranging from 1 to 10.\n",
    "\n",
    "This score represents the perceived risk of recidivism with 1 being the lowest risk and 10 being the highest.\n",
    "\n",
    "We show a bar plot of all decile scores below."
   ]
  },
  {
   "cell_type": "code",
   "execution_count": 10,
   "metadata": {
    "hide-output": false
   },
   "outputs": [
    {
     "data": {
      "text/plain": [
       "(<Figure size 864x576 with 1 Axes>,\n",
       " <matplotlib.axes._subplots.AxesSubplot at 0x7f1d7f48b710>)"
      ]
     },
     "execution_count": 10,
     "metadata": {},
     "output_type": "execute_result"
    },
    {
     "data": {
      "image/png": "[encoded data removed]",
      "text/plain": [
       "<Figure size 864x576 with 1 Axes>"
      ]
     },
     "metadata": {
      "needs_background": "light"
     },
     "output_type": "display_data"
    }
   ],
   "source": [
    "create_groupcount_barplot(df, \"decile_score\", (12, 8), color=\"DarkBlue\", rot=0)"
   ]
  },
  {
   "cell_type": "markdown",
   "metadata": {},
   "source": [
    "How do these scores differ by race?"
   ]
  },
  {
   "cell_type": "code",
   "execution_count": 11,
   "metadata": {
    "hide-output": false
   },
   "outputs": [
    {
     "data": {
      "text/plain": [
       "Text(0.5, 0.98, 'Score Frequency by Race')"
      ]
     },
     "execution_count": 11,
     "metadata": {},
     "output_type": "execute_result"
    },
    {
     "data": {
      "image/png": "[encoded data removed]",
      "text/plain": [
       "<Figure size 1008x576 with 3 Axes>"
      ]
     },
     "metadata": {
      "needs_background": "light"
     },
     "output_type": "display_data"
    }
   ],
   "source": [
    "dfgb = df.groupby(\"race\")\n",
    "race_count = df.groupby(\"race\")[\"name\"].count()\n",
    "\n",
    "fig, ax = plt.subplots(3, figsize=(14, 8))\n",
    "\n",
    "for (i, race) in enumerate([\"African-American\", \"Caucasian\", \"Hispanic\"]):\n",
    "    (\n",
    "        (dfgb\n",
    "            .get_group(race)\n",
    "            .groupby(\"decile_score\")[\"name\"].count() / race_count[race]\n",
    "        )\n",
    "        .plot(kind=\"bar\", ax=ax[i], color=\"#353535\")\n",
    "    )\n",
    "    ax[i].set_ylabel(race)\n",
    "    ax[i].set_xlabel(\"\")\n",
    "    # set equal y limit for visual comparison\n",
    "    ax[i].set_ylim(0, 0.32)\n",
    "\n",
    "fig.suptitle(\"Score Frequency by Race\")"
   ]
  },
  {
   "cell_type": "markdown",
   "metadata": {},
   "source": [
    "While Caucasians and Hispanics both see the majority of their score distribution on low values,\n",
    "African-Americans are almost equally likely to receive any score."
   ]
  },
  {
   "cell_type": "markdown",
   "metadata": {},
   "source": [
    "### Risk Scores and Recidivism\n",
    "\n",
    "Now we can explore the relationship between the risk score and actual two year recidivism.\n",
    "\n",
    "The first measure we look at is the frequency of recidivism by decile score – these numbers\n",
    "tell us what percentage of people assigned a particular risk score committed a new crime within two\n",
    "years of being released."
   ]
  },
  {
   "cell_type": "code",
   "execution_count": 12,
   "metadata": {
    "hide-output": false
   },
   "outputs": [
    {
     "data": {
      "text/plain": [
       "decile_score\n",
       "1     0.220392\n",
       "2     0.309112\n",
       "3     0.375887\n",
       "4     0.426593\n",
       "5     0.478723\n",
       "6     0.564228\n",
       "7     0.590988\n",
       "8     0.681363\n",
       "9     0.698795\n",
       "10    0.770889\n",
       "Name: two_year_recid, dtype: float64"
      ]
     },
     "execution_count": 12,
     "metadata": {},
     "output_type": "execute_result"
    }
   ],
   "source": [
    "df.groupby(\"decile_score\")[\"two_year_recid\"].mean()"
   ]
  },
  {
   "cell_type": "markdown",
   "metadata": {},
   "source": [
    "Let’s also look at the correlation."
   ]
  },
  {
   "cell_type": "code",
   "execution_count": 13,
   "metadata": {
    "hide-output": false
   },
   "outputs": [
    {
     "data": {
      "text/html": [
       "<div>\n",
       "<style scoped>\n",
       "    .dataframe tbody tr th:only-of-type {\n",
       "        vertical-align: middle;\n",
       "    }\n",
       "\n",
       "    .dataframe tbody tr th {\n",
       "        vertical-align: top;\n",
       "    }\n",
       "\n",
       "    .dataframe thead th {\n",
       "        text-align: right;\n",
       "    }\n",
       "</style>\n",
       "<table border=\"1\" class=\"dataframe\">\n",
       "  <thead>\n",
       "    <tr style=\"text-align: right;\">\n",
       "      <th></th>\n",
       "      <th>decile_score</th>\n",
       "      <th>two_year_recid</th>\n",
       "    </tr>\n",
       "  </thead>\n",
       "  <tbody>\n",
       "    <tr>\n",
       "      <th>decile_score</th>\n",
       "      <td>1.000000</td>\n",
       "      <td>0.346797</td>\n",
       "    </tr>\n",
       "    <tr>\n",
       "      <th>two_year_recid</th>\n",
       "      <td>0.346797</td>\n",
       "      <td>1.000000</td>\n",
       "    </tr>\n",
       "  </tbody>\n",
       "</table>\n",
       "</div>"
      ],
      "text/plain": [
       "                decile_score  two_year_recid\n",
       "decile_score        1.000000        0.346797\n",
       "two_year_recid      0.346797        1.000000"
      ]
     },
     "execution_count": 13,
     "metadata": {},
     "output_type": "execute_result"
    }
   ],
   "source": [
    "df[[\"decile_score\", \"two_year_recid\"]].corr()"
   ]
  },
  {
   "cell_type": "markdown",
   "metadata": {},
   "source": [
    "As the risk score increases, the percentage of people committing a new crime does as well, with a\n",
    "positive correlation (~0.35).\n",
    "\n",
    "This is good news – it means that the score is producing at least some signal about an individual’s recidivism risk.\n",
    "\n",
    "One of the key critiques from Pro Publica, though, was that the inaccuracies were nonuniform — that is, the tool was systematically wrong about certain populations.\n",
    "\n",
    "Let’s now separate the correlations by race and see what happens."
   ]
  },
  {
   "cell_type": "code",
   "execution_count": 14,
   "metadata": {
    "hide-output": false
   },
   "outputs": [
    {
     "data": {
      "text/html": [
       "<div>\n",
       "<style scoped>\n",
       "    .dataframe tbody tr th:only-of-type {\n",
       "        vertical-align: middle;\n",
       "    }\n",
       "\n",
       "    .dataframe tbody tr th {\n",
       "        vertical-align: top;\n",
       "    }\n",
       "\n",
       "    .dataframe thead th {\n",
       "        text-align: right;\n",
       "    }\n",
       "</style>\n",
       "<table border=\"1\" class=\"dataframe\">\n",
       "  <thead>\n",
       "    <tr style=\"text-align: right;\">\n",
       "      <th>race</th>\n",
       "      <th>African-American</th>\n",
       "      <th>Caucasian</th>\n",
       "      <th>Hispanic</th>\n",
       "    </tr>\n",
       "    <tr>\n",
       "      <th>decile_score</th>\n",
       "      <th></th>\n",
       "      <th></th>\n",
       "      <th></th>\n",
       "    </tr>\n",
       "  </thead>\n",
       "  <tbody>\n",
       "    <tr>\n",
       "      <th>1</th>\n",
       "      <td>0.228643</td>\n",
       "      <td>0.208517</td>\n",
       "      <td>0.244898</td>\n",
       "    </tr>\n",
       "    <tr>\n",
       "      <th>2</th>\n",
       "      <td>0.302799</td>\n",
       "      <td>0.313019</td>\n",
       "      <td>0.318584</td>\n",
       "    </tr>\n",
       "    <tr>\n",
       "      <th>3</th>\n",
       "      <td>0.419075</td>\n",
       "      <td>0.340659</td>\n",
       "      <td>0.313953</td>\n",
       "    </tr>\n",
       "    <tr>\n",
       "      <th>4</th>\n",
       "      <td>0.459740</td>\n",
       "      <td>0.396491</td>\n",
       "      <td>0.346154</td>\n",
       "    </tr>\n",
       "    <tr>\n",
       "      <th>5</th>\n",
       "      <td>0.482192</td>\n",
       "      <td>0.460581</td>\n",
       "      <td>0.538462</td>\n",
       "    </tr>\n",
       "    <tr>\n",
       "      <th>6</th>\n",
       "      <td>0.559896</td>\n",
       "      <td>0.572165</td>\n",
       "      <td>0.567568</td>\n",
       "    </tr>\n",
       "    <tr>\n",
       "      <th>7</th>\n",
       "      <td>0.592500</td>\n",
       "      <td>0.615385</td>\n",
       "      <td>0.470588</td>\n",
       "    </tr>\n",
       "    <tr>\n",
       "      <th>8</th>\n",
       "      <td>0.682451</td>\n",
       "      <td>0.719298</td>\n",
       "      <td>0.500000</td>\n",
       "    </tr>\n",
       "    <tr>\n",
       "      <th>9</th>\n",
       "      <td>0.707895</td>\n",
       "      <td>0.693878</td>\n",
       "      <td>0.550000</td>\n",
       "    </tr>\n",
       "    <tr>\n",
       "      <th>10</th>\n",
       "      <td>0.793706</td>\n",
       "      <td>0.703125</td>\n",
       "      <td>0.666667</td>\n",
       "    </tr>\n",
       "  </tbody>\n",
       "</table>\n",
       "</div>"
      ],
      "text/plain": [
       "race          African-American  Caucasian  Hispanic\n",
       "decile_score                                       \n",
       "1                     0.228643   0.208517  0.244898\n",
       "2                     0.302799   0.313019  0.318584\n",
       "3                     0.419075   0.340659  0.313953\n",
       "4                     0.459740   0.396491  0.346154\n",
       "5                     0.482192   0.460581  0.538462\n",
       "6                     0.559896   0.572165  0.567568\n",
       "7                     0.592500   0.615385  0.470588\n",
       "8                     0.682451   0.719298  0.500000\n",
       "9                     0.707895   0.693878  0.550000\n",
       "10                    0.793706   0.703125  0.666667"
      ]
     },
     "execution_count": 14,
     "metadata": {},
     "output_type": "execute_result"
    }
   ],
   "source": [
    "recid_rates = df.pivot_table(index=\"decile_score\", columns=\"race\", values=\"two_year_recid\")\n",
    "\n",
    "recid_rates"
   ]
  },
  {
   "cell_type": "markdown",
   "metadata": {},
   "source": [
    "Or, in plotted form,"
   ]
  },
  {
   "cell_type": "code",
   "execution_count": 15,
   "metadata": {
    "hide-output": false
   },
   "outputs": [
    {
     "data": {
      "text/plain": [
       "Text(0.5, 0.98, 'Recidivism Rates by Race')"
      ]
     },
     "execution_count": 15,
     "metadata": {},
     "output_type": "execute_result"
    },
    {
     "data": {
      "image/png": "[encoded data removed]",
      "text/plain": [
       "<Figure size 432x288 with 3 Axes>"
      ]
     },
     "metadata": {
      "needs_background": "light"
     },
     "output_type": "display_data"
    }
   ],
   "source": [
    "fig, ax = plt.subplots(3, sharex=\"all\")\n",
    "\n",
    "for (i, _race) in enumerate([\"African-American\", \"Caucasian\", \"Hispanic\"]):\n",
    "    _rr_vals = recid_rates[_race].values\n",
    "\n",
    "    ax[i].bar(np.arange(1, 11), _rr_vals, color=\"#c60000\")\n",
    "    ax[i].bar(np.arange(1, 11), 1 - _rr_vals, bottom=_rr_vals, color=\"#353535\")\n",
    "    ax[i].set_ylabel(_race)\n",
    "    ax[i].spines[\"left\"].set_visible(False)\n",
    "    ax[i].spines[\"right\"].set_visible(False)\n",
    "    ax[i].spines[\"top\"].set_visible(False)\n",
    "    ax[i].spines[\"bottom\"].set_visible(False)\n",
    "    ax[i].yaxis.tick_right()\n",
    "    ax[i].xaxis.set_ticks_position(\"none\")\n",
    "\n",
    "fig.suptitle(\"Recidivism Rates by Race\")"
   ]
  },
  {
   "cell_type": "markdown",
   "metadata": {},
   "source": [
    "## Regression\n",
    "\n",
    "In what follows, we will be doing something slightly different than what was done in the Pro Publica\n",
    "article.\n",
    "\n",
    "First, we will explore what happens when we try to predict the COMPAS risk scores using the\n",
    "observable data that we have.\n",
    "\n",
    "Second, we will use binary probability models to predict whether an individual is at risk of\n",
    "recidivism.\n",
    "\n",
    "We will do this first using the COMPAS risk scores, and then afterwards we will try to write our own\n",
    "model based on raw observables, like age, race and sex."
   ]
  },
  {
   "cell_type": "markdown",
   "metadata": {},
   "source": [
    "### Preprocessing\n",
    "\n",
    "We would like to use some features that are inherently non-numerical such as sex, age group, and\n",
    "race in our model.\n",
    "\n",
    "Before we can do that, we need to encode these string values as numerical values\n",
    "so our machine learning algorithms can understand them – an econometrician would call this,\n",
    "creating dummy variables.\n",
    "\n",
    "`sklearn` can automatically do this for us using `OneHotEncoder`.\n",
    "\n",
    "Essentially, we make one column for each possible value of a categorical\n",
    "variable and then we set just one of these columns equal to a 1 if the observation has that\n",
    "column’s category, and set all other columns to 0.\n",
    "\n",
    "Let’s do an example.\n",
    "\n",
    "Imagine we have the array below."
   ]
  },
  {
   "cell_type": "code",
   "execution_count": 16,
   "metadata": {
    "hide-output": false
   },
   "outputs": [],
   "source": [
    "sex = np.array([[\"Male\"], [\"Female\"], [\"Male\"], [\"Male\"], [\"Female\"]])"
   ]
  },
  {
   "cell_type": "markdown",
   "metadata": {},
   "source": [
    "The way to encode this would be to create the array below."
   ]
  },
  {
   "cell_type": "code",
   "execution_count": 17,
   "metadata": {
    "hide-output": false
   },
   "outputs": [],
   "source": [
    "sex_encoded = np.array([\n",
    "    [0.0, 1.0],\n",
    "    [1.0, 0.0],\n",
    "    [0.0, 1.0],\n",
    "    [0.0, 1.0],\n",
    "    [1.0, 0.0]\n",
    "])"
   ]
  },
  {
   "cell_type": "markdown",
   "metadata": {},
   "source": [
    "Using `sklearn` it would be:"
   ]
  },
  {
   "cell_type": "code",
   "execution_count": 18,
   "metadata": {
    "hide-output": false
   },
   "outputs": [
    {
     "data": {
      "text/plain": [
       "array([[0., 0.],\n",
       "       [0., 0.],\n",
       "       [0., 0.],\n",
       "       [0., 0.],\n",
       "       [0., 0.]])"
      ]
     },
     "execution_count": 18,
     "metadata": {},
     "output_type": "execute_result"
    }
   ],
   "source": [
    "ohe = preprocessing.OneHotEncoder(sparse=False)\n",
    "sex_ohe = ohe.fit_transform(sex)\n",
    "\n",
    "# This should shows 0s!\n",
    "sex_ohe - sex_encoded"
   ]
  },
  {
   "cell_type": "markdown",
   "metadata": {},
   "source": [
    "We will use this encoding trick below as we create our data."
   ]
  },
  {
   "cell_type": "markdown",
   "metadata": {},
   "source": [
    "### Predicting COMPAS Scores\n",
    "\n",
    "First, we proceed by creating the `X` and `y` inputs into a manageable format.\n",
    "\n",
    "We encode the categorical variables using the `OneHotEncoder` described above, and then merge that with the non-categorical data.\n",
    "\n",
    "Finally, we split the data into training and validation (test) subsets."
   ]
  },
  {
   "cell_type": "code",
   "execution_count": 19,
   "metadata": {
    "hide-output": false
   },
   "outputs": [],
   "source": [
    "def prep_data(df, continuous_variables, categories, y_var, test_size=0.15):\n",
    "\n",
    "    ohe = preprocessing.OneHotEncoder(sparse=False)\n",
    "\n",
    "    y = df[y_var].values\n",
    "    X = np.zeros((y.size, 0))\n",
    "\n",
    "    # Add continuous variables if exist\n",
    "    if len(continuous_variables) > 0:\n",
    "        X = np.hstack([X, df[continuous_variables].values])\n",
    "\n",
    "    if len(categories) > 0:\n",
    "        X = np.hstack([X, ohe.fit_transform(df[categories])])\n",
    "\n",
    "    X_train, X_test, y_train, y_test = model_selection.train_test_split(\n",
    "        X, y, test_size=test_size, random_state=42\n",
    "    )\n",
    "\n",
    "    return X_train, X_test, y_train, y_test"
   ]
  },
  {
   "cell_type": "markdown",
   "metadata": {},
   "source": [
    "As we proceed, our goal will be to see which variables are most important for predicting the COMPAS\n",
    "scores.\n",
    "\n",
    "As we estimate these models, one of our metrics for success will be mean absolute error (MAE)."
   ]
  },
  {
   "cell_type": "code",
   "execution_count": 20,
   "metadata": {
    "hide-output": false
   },
   "outputs": [],
   "source": [
    "def fit_and_report_maes(mod, X_train, X_test, y_train, y_test, y_transform=None, y_inv_transform=None):\n",
    "    if y_transform is not None:\n",
    "        mod.fit(X_train, y_transform(y_train))\n",
    "    else:\n",
    "        mod.fit(X_train, y_train)\n",
    "\n",
    "    yhat_train = mod.predict(X_train)\n",
    "    yhat_test = mod.predict(X_test)\n",
    "\n",
    "    if y_transform is not None:\n",
    "        yhat_train = y_inv_transform(yhat_train)\n",
    "        yhat_test = y_inv_transform(yhat_test)\n",
    "\n",
    "    return dict(\n",
    "        mae_train=metrics.mean_absolute_error(y_train, yhat_train),\n",
    "        mae_test=metrics.mean_absolute_error(y_test, yhat_test)\n",
    "    )"
   ]
  },
  {
   "cell_type": "markdown",
   "metadata": {},
   "source": [
    "Let’s begin with a simple linear model which uses just prior arrests."
   ]
  },
  {
   "cell_type": "code",
   "execution_count": 21,
   "metadata": {
    "hide-output": false
   },
   "outputs": [
    {
     "data": {
      "text/plain": [
       "{'mae_train': 2.162527833108664, 'mae_test': 2.1917544845291337}"
      ]
     },
     "execution_count": 21,
     "metadata": {},
     "output_type": "execute_result"
    }
   ],
   "source": [
    "X_train, X_test, y_train, y_test = prep_data(\n",
    "    df, [\"priors_count\"], [], \"decile_score\"\n",
    ")\n",
    "\n",
    "fit_and_report_maes(linear_model.LinearRegression(), X_train, X_test, y_train, y_test)"
   ]
  },
  {
   "cell_type": "markdown",
   "metadata": {},
   "source": [
    "This simple model obtains a MAE of about 2 for both the test data and training data.\n",
    "\n",
    "This means, on average, that our model can predict the COMPAS score (which ranges from 1-10)\n",
    "within about 2 points.\n",
    "\n",
    "While the MAE is about 2, knowing what the errors on our prediction model look\n",
    "like is often very useful.\n",
    "\n",
    "Below, we create a histogram which shows the distribution of these errors. In our case, we\n",
    "take the difference between predicted value and actual value, so a positive value means that we\n",
    "overpredicted the COMPAS score and a negative value means we underpredicted it."
   ]
  },
  {
   "cell_type": "code",
   "execution_count": 22,
   "metadata": {
    "hide-output": false
   },
   "outputs": [
    {
     "data": {
      "text/plain": [
       "Text(0.5, 1.0, 'Test Data')"
      ]
     },
     "execution_count": 22,
     "metadata": {},
     "output_type": "execute_result"
    },
    {
     "data": {
      "image/png": "[encoded data removed]",
      "text/plain": [
       "<Figure size 864x288 with 2 Axes>"
      ]
     },
     "metadata": {
      "needs_background": "light"
     },
     "output_type": "display_data"
    }
   ],
   "source": [
    "lr_model = linear_model.LinearRegression()\n",
    "lr_model.fit(X_train, y_train)\n",
    "\n",
    "yhat_train = lr_model.predict(X_train)\n",
    "yhat_test = lr_model.predict(X_test)\n",
    "\n",
    "fig, ax = plt.subplots(1, 2, figsize=(12, 4), sharey=\"all\")\n",
    "\n",
    "ax[0].hist(yhat_train - y_train, density=True)\n",
    "ax[0].set_title(\"Training Data\")\n",
    "ax[1].hist(yhat_test - y_test, density=True)\n",
    "ax[1].set_title(\"Test Data\")"
   ]
  },
  {
   "cell_type": "markdown",
   "metadata": {},
   "source": [
    "In both cases, the long left tails of errors suggest the existence of relevant features which would improve our model.\n",
    "\n",
    "The first thing we might consider investigating is whether there are non-linearities in how the\n",
    "number of priors enters the COMPAS score.\n",
    "\n",
    "First, we try using polynomial features in our exogenous variables."
   ]
  },
  {
   "cell_type": "code",
   "execution_count": 23,
   "metadata": {
    "hide-output": false
   },
   "outputs": [
    {
     "data": {
      "text/plain": [
       "{'mae_train': 2.1204058017552914, 'mae_test': 2.1179838134597335}"
      ]
     },
     "execution_count": 23,
     "metadata": {},
     "output_type": "execute_result"
    }
   ],
   "source": [
    "X_train, X_test, y_train, y_test = prep_data(\n",
    "    df, [\"priors_count\"], [], \"decile_score\"\n",
    ")\n",
    "\n",
    "# Transform data to quadratic\n",
    "pf = preprocessing.PolynomialFeatures(2, include_bias=False)\n",
    "X_train = pf.fit_transform(X_train)\n",
    "X_test = pf.fit_transform(X_test)\n",
    "\n",
    "fit_and_report_maes(linear_model.LinearRegression(), X_train, X_test, y_train, y_test)"
   ]
  },
  {
   "cell_type": "markdown",
   "metadata": {},
   "source": [
    "We don’t see a very significant increase in performance, so we also try using log on the endogenous\n",
    "variables."
   ]
  },
  {
   "cell_type": "code",
   "execution_count": 24,
   "metadata": {
    "hide-output": false
   },
   "outputs": [
    {
     "data": {
      "text/plain": [
       "{'mae_train': 2.2550821558610115, 'mae_test': 2.3332184125647917}"
      ]
     },
     "execution_count": 24,
     "metadata": {},
     "output_type": "execute_result"
    }
   ],
   "source": [
    "X_train, X_test, y_train, y_test = prep_data(\n",
    "    df, [\"priors_count\"], [], \"decile_score\"\n",
    ")\n",
    "\n",
    "fit_and_report_maes(\n",
    "    linear_model.LinearRegression(), X_train, X_test, y_train, y_test,\n",
    "    y_transform=np.log, y_inv_transform=np.exp\n",
    ")"
   ]
  },
  {
   "cell_type": "markdown",
   "metadata": {},
   "source": [
    "Still no improvement… The next natural thing is to add more features to our regression."
   ]
  },
  {
   "cell_type": "code",
   "execution_count": 25,
   "metadata": {
    "hide-output": false
   },
   "outputs": [
    {
     "data": {
      "text/plain": [
       "{'mae_train': 1.807656365060343, 'mae_test': 1.8277010173497898}"
      ]
     },
     "execution_count": 25,
     "metadata": {},
     "output_type": "execute_result"
    }
   ],
   "source": [
    "X_train, X_test, y_train, y_test = prep_data(\n",
    "    df, [\"priors_count\"], [\"age_cat\", \"race\", \"sex\"], \"decile_score\"\n",
    ")\n",
    "\n",
    "fit_and_report_maes(linear_model.LinearRegression(), X_train, X_test, y_train, y_test)"
   ]
  },
  {
   "cell_type": "markdown",
   "metadata": {},
   "source": [
    "By allowing for indicator variables on age, race, and sex, we are able to slightly improve the MAE.\n",
    "The errors also seem to have a less extreme tail."
   ]
  },
  {
   "cell_type": "code",
   "execution_count": 26,
   "metadata": {
    "hide-output": false
   },
   "outputs": [
    {
     "data": {
      "text/plain": [
       "Text(0.5, 1.0, 'Test Data')"
      ]
     },
     "execution_count": 26,
     "metadata": {},
     "output_type": "execute_result"
    },
    {
     "data": {
      "image/png": "[encoded data removed]",
      "text/plain": [
       "<Figure size 864x288 with 2 Axes>"
      ]
     },
     "metadata": {
      "needs_background": "light"
     },
     "output_type": "display_data"
    }
   ],
   "source": [
    "X_train, X_test, y_train, y_test = prep_data(\n",
    "    df, [\"priors_count\"], [\"age_cat\", \"race\", \"sex\"], \"decile_score\"\n",
    ")\n",
    "\n",
    "lr_model = linear_model.LinearRegression()\n",
    "lr_model.fit(X_train, y_train)\n",
    "\n",
    "yhat_train = lr_model.predict(X_train)\n",
    "yhat_test = lr_model.predict(X_test)\n",
    "\n",
    "fig, ax = plt.subplots(1, 2, figsize=(12, 4), sharey=\"all\")\n",
    "\n",
    "ax[0].hist(yhat_train - y_train, density=True)\n",
    "ax[0].set_title(\"Training Data\")\n",
    "ax[1].hist(yhat_test - y_test, density=True)\n",
    "ax[1].set_title(\"Test Data\")"
   ]
  },
  {
   "cell_type": "markdown",
   "metadata": {},
   "source": [
    "The coefficients are listed below:"
   ]
  },
  {
   "cell_type": "code",
   "execution_count": 27,
   "metadata": {
    "hide-output": false
   },
   "outputs": [
    {
     "name": "stdout",
     "output_type": "stream",
     "text": [
      "priors_count :  0.2799923049684575\n",
      "Less than 25 :  -0.1026275580794656\n",
      "25-45 :  -1.7189018948181372\n",
      "Greater than 45 :  1.821529452897601\n",
      "African-American :  0.6102522379830793\n",
      "Caucasian :  -0.10156939689442336\n",
      "Hispanic :  -0.5086828410886551\n",
      "Female :  0.04293582427466207\n",
      "Male :  -0.04293582427466212\n"
     ]
    }
   ],
   "source": [
    "names = [\n",
    "    \"priors_count\", \"Less than 25\", \"25-45\", \"Greater than 45\", \"African-American\",\n",
    "    \"Caucasian\", \"Hispanic\", \"Female\", \"Male\"\n",
    "]\n",
    "for (_name, _coef) in zip(names, lr_model.coef_):\n",
    "    print(_name, \": \", _coef)"
   ]
  },
  {
   "cell_type": "markdown",
   "metadata": {},
   "source": [
    "What stands out to you about these coefficients?\n",
    "\n",
    "\n",
    "<a id='exercise-0'></a>\n",
    "> See exercise 1 in the [*exercise list*](#exerciselist-0)"
   ]
  },
  {
   "cell_type": "markdown",
   "metadata": {},
   "source": [
    "### Binary Probability Models\n",
    "\n",
    "Binary probability models are used to model “all or nothing” outcomes,\n",
    "like the occurrence of an event.\n",
    "\n",
    "Their output is the probability that an event of interest occurs.\n",
    "\n",
    "With this probability in hand, the researcher chooses an acceptable cutoff (perhaps 0.5)\n",
    "above which the event is predicted to occur.\n",
    "\n",
    ">**Note**\n",
    ">\n",
    ">Binary probability models can be thought of as a special case of\n",
    "classification.\n",
    "\n",
    "In classification, we are given a set of features and asked to predict\n",
    "one of a finite number of discrete labels.\n",
    "\n",
    "We will learn more about classification in an upcoming lecture!\n",
    "\n",
    "In our example, we will be interested in how the COMPAS scores do at predicting recidivism and how\n",
    "their ability to predict depends on race or sex.\n",
    "\n",
    "To assist us in evaluating the performance of various models we will use a new\n",
    "metric called the *confusion matrix*.\n",
    "\n",
    "Scikit-learn knows how to compute this metric and also provides a good description\n",
    "of what is computed.\n",
    "\n",
    "Let’s see what they have to say."
   ]
  },
  {
   "cell_type": "code",
   "execution_count": 28,
   "metadata": {
    "hide-output": false
   },
   "outputs": [
    {
     "name": "stdout",
     "output_type": "stream",
     "text": [
      "Help on function confusion_matrix in module sklearn.metrics.classification:\n",
      "\n",
      "confusion_matrix(y_true, y_pred, labels=None, sample_weight=None)\n",
      "    Compute confusion matrix to evaluate the accuracy of a classification\n",
      "    \n",
      "    By definition a confusion matrix :math:`C` is such that :math:`C_{i, j}`\n",
      "    is equal to the number of observations known to be in group :math:`i` but\n",
      "    predicted to be in group :math:`j`.\n",
      "    \n",
      "    Thus in binary classification, the count of true negatives is\n",
      "    :math:`C_{0,0}`, false negatives is :math:`C_{1,0}`, true positives is\n",
      "    :math:`C_{1,1}` and false positives is :math:`C_{0,1}`.\n",
      "    \n",
      "    Read more in the :ref:`User Guide <confusion_matrix>`.\n",
      "    \n",
      "    Parameters\n",
      "    ----------\n",
      "    y_true : array, shape = [n_samples]\n",
      "        Ground truth (correct) target values.\n",
      "    \n",
      "    y_pred : array, shape = [n_samples]\n",
      "        Estimated targets as returned by a classifier.\n",
      "    \n",
      "    labels : array, shape = [n_classes], optional\n",
      "        List of labels to index the matrix. This may be used to reorder\n",
      "        or select a subset of labels.\n",
      "        If none is given, those that appear at least once\n",
      "        in ``y_true`` or ``y_pred`` are used in sorted order.\n",
      "    \n",
      "    sample_weight : array-like of shape = [n_samples], optional\n",
      "        Sample weights.\n",
      "    \n",
      "    Returns\n",
      "    -------\n",
      "    C : array, shape = [n_classes, n_classes]\n",
      "        Confusion matrix\n",
      "    \n",
      "    References\n",
      "    ----------\n",
      "    .. [1] `Wikipedia entry for the Confusion matrix\n",
      "           <https://en.wikipedia.org/wiki/Confusion_matrix>`_\n",
      "           (Wikipedia and other references may use a different\n",
      "           convention for axes)\n",
      "    \n",
      "    Examples\n",
      "    --------\n",
      "    >>> from sklearn.metrics import confusion_matrix\n",
      "    >>> y_true = [2, 0, 2, 2, 0, 1]\n",
      "    >>> y_pred = [0, 0, 2, 2, 0, 2]\n",
      "    >>> confusion_matrix(y_true, y_pred)\n",
      "    array([[2, 0, 0],\n",
      "           [0, 0, 1],\n",
      "           [1, 0, 2]])\n",
      "    \n",
      "    >>> y_true = [\"cat\", \"ant\", \"cat\", \"cat\", \"ant\", \"bird\"]\n",
      "    >>> y_pred = [\"ant\", \"ant\", \"cat\", \"cat\", \"ant\", \"cat\"]\n",
      "    >>> confusion_matrix(y_true, y_pred, labels=[\"ant\", \"bird\", \"cat\"])\n",
      "    array([[2, 0, 0],\n",
      "           [0, 0, 1],\n",
      "           [1, 0, 2]])\n",
      "    \n",
      "    In the binary case, we can extract true positives, etc as follows:\n",
      "    \n",
      "    >>> tn, fp, fn, tp = confusion_matrix([0, 1, 0, 1], [1, 1, 1, 0]).ravel()\n",
      "    >>> (tn, fp, fn, tp)\n",
      "    (0, 2, 1, 1)\n",
      "\n"
     ]
    }
   ],
   "source": [
    "help(metrics.confusion_matrix)"
   ]
  },
  {
   "cell_type": "code",
   "execution_count": 29,
   "metadata": {
    "hide-output": false
   },
   "outputs": [],
   "source": [
    "def report_cm(mod, X_train, X_test, y_train, y_test):\n",
    "     return dict(\n",
    "         cm_train=metrics.confusion_matrix(y_train, mod.predict(X_train)),\n",
    "         cm_test=metrics.confusion_matrix(y_test, mod.predict(X_test))\n",
    "     )"
   ]
  },
  {
   "cell_type": "markdown",
   "metadata": {},
   "source": [
    "We will start by using logistic regression using only `decile_score`\n",
    "as a feature and then examine how the confusion matrices differ by\n",
    "race and sex."
   ]
  },
  {
   "cell_type": "code",
   "execution_count": 30,
   "metadata": {
    "hide-output": false
   },
   "outputs": [
    {
     "data": {
      "text/html": [
       "<div>\n",
       "<style scoped>\n",
       "    .dataframe tbody tr th:only-of-type {\n",
       "        vertical-align: middle;\n",
       "    }\n",
       "\n",
       "    .dataframe tbody tr th {\n",
       "        vertical-align: top;\n",
       "    }\n",
       "\n",
       "    .dataframe thead th {\n",
       "        text-align: right;\n",
       "    }\n",
       "</style>\n",
       "<table border=\"1\" class=\"dataframe\">\n",
       "  <thead>\n",
       "    <tr style=\"text-align: right;\">\n",
       "      <th></th>\n",
       "      <th>overall</th>\n",
       "      <th>African-American</th>\n",
       "      <th>Caucasian</th>\n",
       "      <th>Hispanic</th>\n",
       "      <th>Female</th>\n",
       "      <th>Male</th>\n",
       "    </tr>\n",
       "  </thead>\n",
       "  <tbody>\n",
       "    <tr>\n",
       "      <th>Portion_of_NoRecid_and_LowRisk</th>\n",
       "      <td>0.361815</td>\n",
       "      <td>0.263270</td>\n",
       "      <td>0.475000</td>\n",
       "      <td>0.522581</td>\n",
       "      <td>0.438040</td>\n",
       "      <td>0.342222</td>\n",
       "    </tr>\n",
       "    <tr>\n",
       "      <th>Portion_of_Recid_and_LowRisk</th>\n",
       "      <td>0.191514</td>\n",
       "      <td>0.230361</td>\n",
       "      <td>0.136667</td>\n",
       "      <td>0.167742</td>\n",
       "      <td>0.207493</td>\n",
       "      <td>0.187407</td>\n",
       "    </tr>\n",
       "    <tr>\n",
       "      <th>Portion_of_NoRecid_and_HighRisk</th>\n",
       "      <td>0.152033</td>\n",
       "      <td>0.140127</td>\n",
       "      <td>0.168333</td>\n",
       "      <td>0.161290</td>\n",
       "      <td>0.141210</td>\n",
       "      <td>0.154815</td>\n",
       "    </tr>\n",
       "    <tr>\n",
       "      <th>Portion_of_Recid_and_HighRisk</th>\n",
       "      <td>0.294638</td>\n",
       "      <td>0.366242</td>\n",
       "      <td>0.220000</td>\n",
       "      <td>0.148387</td>\n",
       "      <td>0.213256</td>\n",
       "      <td>0.315556</td>\n",
       "    </tr>\n",
       "  </tbody>\n",
       "</table>\n",
       "</div>"
      ],
      "text/plain": [
       "                                  overall  African-American  Caucasian  \\\n",
       "Portion_of_NoRecid_and_LowRisk   0.361815          0.263270   0.475000   \n",
       "Portion_of_Recid_and_LowRisk     0.191514          0.230361   0.136667   \n",
       "Portion_of_NoRecid_and_HighRisk  0.152033          0.140127   0.168333   \n",
       "Portion_of_Recid_and_HighRisk    0.294638          0.366242   0.220000   \n",
       "\n",
       "                                 Hispanic    Female      Male  \n",
       "Portion_of_NoRecid_and_LowRisk   0.522581  0.438040  0.342222  \n",
       "Portion_of_Recid_and_LowRisk     0.167742  0.207493  0.187407  \n",
       "Portion_of_NoRecid_and_HighRisk  0.161290  0.141210  0.154815  \n",
       "Portion_of_Recid_and_HighRisk    0.148387  0.213256  0.315556  "
      ]
     },
     "execution_count": 30,
     "metadata": {},
     "output_type": "execute_result"
    }
   ],
   "source": [
    "from patsy import dmatrices\n",
    "groups = [\n",
    "    \"overall\", \"African-American\", \"Caucasian\", \"Hispanic\", \"Female\", \"Male\"\n",
    "]\n",
    "\n",
    "ind = [\n",
    "    \"Portion_of_NoRecid_and_LowRisk\", \"Portion_of_Recid_and_LowRisk\",\n",
    "    \"Portion_of_NoRecid_and_HighRisk\", \"Portion_of_Recid_and_HighRisk\"\n",
    "]\n",
    "\n",
    "fmla = \"two_year_recid ~ C(decile_score)\"\n",
    "y,X = dmatrices(fmla, df)\n",
    "X_train, X_test, y_train, y_test, df_train, df_test = model_selection.train_test_split(\n",
    "    X,y.reshape(-1),df, test_size=0.25, random_state=42\n",
    ")\n",
    "\n",
    "\n",
    "decile_mod = linear_model.LogisticRegression(solver=\"lbfgs\").fit(X_train,y_train)\n",
    "\n",
    "def cm_tables(pred, y, df):\n",
    "    output = pd.DataFrame(index=ind, columns=groups)\n",
    "    for group in groups:\n",
    "        if group in [\"African-American\", \"Caucasian\", \"Hispanic\"]:\n",
    "            subset=(df.race==group)\n",
    "        elif group in [\"Female\", \"Male\"]:\n",
    "            subset=(df.sex==group)\n",
    "        else:\n",
    "            subset=np.full(y.shape, True)\n",
    "\n",
    "        y_sub = y[subset]\n",
    "        pred_sub = pred[subset]\n",
    "\n",
    "        cm = metrics.confusion_matrix(y_sub, pred_sub)\n",
    "\n",
    "        # Compute fraction for which the guess is correct\n",
    "        total = cm.sum()\n",
    "        vals = np.array(cm/total)\n",
    "        output.loc[:, group] = vals.reshape(-1)\n",
    "\n",
    "\n",
    "    def cond_probs(col, axis):\n",
    "        d=int(np.sqrt(len(col)))\n",
    "        pcm = np.array(col).reshape(d,d)\n",
    "        pcm = pcm/pcm.sum(axis=axis, keepdims=True)\n",
    "        return(pcm.reshape(-1))\n",
    "\n",
    "    given_outcome = output.copy()\n",
    "    given_outcome.index = [\"P(LowRisk|NoRecid)\",\"P(HighRisk|NoRecid)\",\"P(LowRisk|Recid)\",\"P(HighRisk|Recid)\"]\n",
    "    given_outcome=given_outcome.apply(lambda c: cond_probs(c,1))\n",
    "\n",
    "    given_pred = output.copy()\n",
    "    given_pred.index = [\"P(NoRecid|LowRisk)\",\"P(NoRecid|HighRisk)\",\"P(Recid|LowRisk)\",\"P(Recid|HighRisk)\"]\n",
    "    given_pred=given_pred.apply(lambda c: cond_probs(c,0))\n",
    "    return(output,given_outcome, given_pred)\n",
    "\n",
    "output, given_outcome, given_pred =cm_tables(decile_mod.predict(X_test),\n",
    "                                             y_test, df_test)\n",
    "output"
   ]
  },
  {
   "cell_type": "markdown",
   "metadata": {},
   "source": [
    "`output` contains information on the percent of true negatives, false negatives, false positives,\n",
    "and true positives.\n",
    "\n",
    "What do you see?\n",
    "\n",
    "The joint probabilities (of prediction and outcome given race or sex) in the\n",
    "above table are a bit hard to interpret.\n",
    "\n",
    "Conditional probabilities can be easier to think about.\n",
    "\n",
    "Let’s look at the probability of outcomes given the prediction as well as race or sex."
   ]
  },
  {
   "cell_type": "code",
   "execution_count": 31,
   "metadata": {
    "hide-output": false
   },
   "outputs": [
    {
     "data": {
      "text/html": [
       "<div>\n",
       "<style scoped>\n",
       "    .dataframe tbody tr th:only-of-type {\n",
       "        vertical-align: middle;\n",
       "    }\n",
       "\n",
       "    .dataframe tbody tr th {\n",
       "        vertical-align: top;\n",
       "    }\n",
       "\n",
       "    .dataframe thead th {\n",
       "        text-align: right;\n",
       "    }\n",
       "</style>\n",
       "<table border=\"1\" class=\"dataframe\">\n",
       "  <thead>\n",
       "    <tr style=\"text-align: right;\">\n",
       "      <th></th>\n",
       "      <th>overall</th>\n",
       "      <th>African-American</th>\n",
       "      <th>Caucasian</th>\n",
       "      <th>Hispanic</th>\n",
       "      <th>Female</th>\n",
       "      <th>Male</th>\n",
       "    </tr>\n",
       "  </thead>\n",
       "  <tbody>\n",
       "    <tr>\n",
       "      <th>P(NoRecid|LowRisk)</th>\n",
       "      <td>0.704128</td>\n",
       "      <td>0.652632</td>\n",
       "      <td>0.738342</td>\n",
       "      <td>0.764151</td>\n",
       "      <td>0.756219</td>\n",
       "      <td>0.688525</td>\n",
       "    </tr>\n",
       "    <tr>\n",
       "      <th>P(NoRecid|HighRisk)</th>\n",
       "      <td>0.393939</td>\n",
       "      <td>0.386121</td>\n",
       "      <td>0.383178</td>\n",
       "      <td>0.530612</td>\n",
       "      <td>0.493151</td>\n",
       "      <td>0.372607</td>\n",
       "    </tr>\n",
       "    <tr>\n",
       "      <th>P(Recid|LowRisk)</th>\n",
       "      <td>0.295872</td>\n",
       "      <td>0.347368</td>\n",
       "      <td>0.261658</td>\n",
       "      <td>0.235849</td>\n",
       "      <td>0.243781</td>\n",
       "      <td>0.311475</td>\n",
       "    </tr>\n",
       "    <tr>\n",
       "      <th>P(Recid|HighRisk)</th>\n",
       "      <td>0.606061</td>\n",
       "      <td>0.613879</td>\n",
       "      <td>0.616822</td>\n",
       "      <td>0.469388</td>\n",
       "      <td>0.506849</td>\n",
       "      <td>0.627393</td>\n",
       "    </tr>\n",
       "  </tbody>\n",
       "</table>\n",
       "</div>"
      ],
      "text/plain": [
       "                      overall  African-American  Caucasian  Hispanic  \\\n",
       "P(NoRecid|LowRisk)   0.704128          0.652632   0.738342  0.764151   \n",
       "P(NoRecid|HighRisk)  0.393939          0.386121   0.383178  0.530612   \n",
       "P(Recid|LowRisk)     0.295872          0.347368   0.261658  0.235849   \n",
       "P(Recid|HighRisk)    0.606061          0.613879   0.616822  0.469388   \n",
       "\n",
       "                       Female      Male  \n",
       "P(NoRecid|LowRisk)   0.756219  0.688525  \n",
       "P(NoRecid|HighRisk)  0.493151  0.372607  \n",
       "P(Recid|LowRisk)     0.243781  0.311475  \n",
       "P(Recid|HighRisk)    0.506849  0.627393  "
      ]
     },
     "execution_count": 31,
     "metadata": {},
     "output_type": "execute_result"
    }
   ],
   "source": [
    "given_pred"
   ]
  },
  {
   "cell_type": "markdown",
   "metadata": {},
   "source": [
    "As you can see, the distribution of outcomes conditional on predictions does\n",
    "not vary too much with race.\n",
    "\n",
    "Moreover, if anything, it discriminates in favor of African-Americans.\n",
    "\n",
    "The algorithm does appear to overpredict recidivism for women compared\n",
    "to men.\n",
    "\n",
    "This is an important concern.\n",
    "\n",
    "We will not discuss it too much though because (1) we will see below that\n",
    "when fairness is looked at in another way, women are favored over men,\n",
    "and (2) the company that produces COMPAS also produces a separate\n",
    "questionnaire and risk score designed only for women."
   ]
  },
  {
   "cell_type": "markdown",
   "metadata": {},
   "source": [
    "### False Positive and Negative Rates\n",
    "\n",
    "What if we flip this around and look at the distributions of\n",
    "predictions conditional on outcomes?\n",
    "\n",
    "Why look at these probabilities?\n",
    "\n",
    "One reason is that in law, it’s traditionally far\n",
    "worse to punish innocents than let the guilty free. This idea goes at\n",
    "least back to [1760 and Blackstone’s ratio](https://en.wikipedia.org/wiki/Blackstone%27s_ratio).\n",
    "\n",
    "> It is better that ten guilty persons escape than that one innocent\n",
    "suffer. -William Blackstone\n",
    "\n",
    "\n",
    "Blackstone’s ratio says that we should be particularly concerned about\n",
    "P(HighRisk | NoRecid).\n",
    "\n",
    "This probability is also called the false\n",
    "positive rate."
   ]
  },
  {
   "cell_type": "code",
   "execution_count": 32,
   "metadata": {
    "hide-output": false
   },
   "outputs": [
    {
     "data": {
      "text/html": [
       "<div>\n",
       "<style scoped>\n",
       "    .dataframe tbody tr th:only-of-type {\n",
       "        vertical-align: middle;\n",
       "    }\n",
       "\n",
       "    .dataframe tbody tr th {\n",
       "        vertical-align: top;\n",
       "    }\n",
       "\n",
       "    .dataframe thead th {\n",
       "        text-align: right;\n",
       "    }\n",
       "</style>\n",
       "<table border=\"1\" class=\"dataframe\">\n",
       "  <thead>\n",
       "    <tr style=\"text-align: right;\">\n",
       "      <th></th>\n",
       "      <th>overall</th>\n",
       "      <th>African-American</th>\n",
       "      <th>Caucasian</th>\n",
       "      <th>Hispanic</th>\n",
       "      <th>Female</th>\n",
       "      <th>Male</th>\n",
       "    </tr>\n",
       "  </thead>\n",
       "  <tbody>\n",
       "    <tr>\n",
       "      <th>P(LowRisk|NoRecid)</th>\n",
       "      <td>0.653887</td>\n",
       "      <td>0.533333</td>\n",
       "      <td>0.776567</td>\n",
       "      <td>0.757009</td>\n",
       "      <td>0.678571</td>\n",
       "      <td>0.646154</td>\n",
       "    </tr>\n",
       "    <tr>\n",
       "      <th>P(HighRisk|NoRecid)</th>\n",
       "      <td>0.346113</td>\n",
       "      <td>0.466667</td>\n",
       "      <td>0.223433</td>\n",
       "      <td>0.242991</td>\n",
       "      <td>0.321429</td>\n",
       "      <td>0.353846</td>\n",
       "    </tr>\n",
       "    <tr>\n",
       "      <th>P(LowRisk|Recid)</th>\n",
       "      <td>0.340369</td>\n",
       "      <td>0.276730</td>\n",
       "      <td>0.433476</td>\n",
       "      <td>0.520833</td>\n",
       "      <td>0.398374</td>\n",
       "      <td>0.329134</td>\n",
       "    </tr>\n",
       "    <tr>\n",
       "      <th>P(HighRisk|Recid)</th>\n",
       "      <td>0.659631</td>\n",
       "      <td>0.723270</td>\n",
       "      <td>0.566524</td>\n",
       "      <td>0.479167</td>\n",
       "      <td>0.601626</td>\n",
       "      <td>0.670866</td>\n",
       "    </tr>\n",
       "  </tbody>\n",
       "</table>\n",
       "</div>"
      ],
      "text/plain": [
       "                      overall  African-American  Caucasian  Hispanic  \\\n",
       "P(LowRisk|NoRecid)   0.653887          0.533333   0.776567  0.757009   \n",
       "P(HighRisk|NoRecid)  0.346113          0.466667   0.223433  0.242991   \n",
       "P(LowRisk|Recid)     0.340369          0.276730   0.433476  0.520833   \n",
       "P(HighRisk|Recid)    0.659631          0.723270   0.566524  0.479167   \n",
       "\n",
       "                       Female      Male  \n",
       "P(LowRisk|NoRecid)   0.678571  0.646154  \n",
       "P(HighRisk|NoRecid)  0.321429  0.353846  \n",
       "P(LowRisk|Recid)     0.398374  0.329134  \n",
       "P(HighRisk|Recid)    0.601626  0.670866  "
      ]
     },
     "execution_count": 32,
     "metadata": {},
     "output_type": "execute_result"
    }
   ],
   "source": [
    "given_outcome"
   ]
  },
  {
   "cell_type": "markdown",
   "metadata": {},
   "source": [
    "Now we see some large disparities by race in the false positive rate\n",
    "(and false negative rate). This is one of the main findings of the Pro\n",
    "Publica article.\n",
    "\n",
    "In response to Pro Publica, Northpointe, the company that produces\n",
    "COMPAS, argued that COMPAS is not biased because the probabilities of\n",
    "outcomes conditional on predictions (like P(NoRecid|LowRisk)) are\n",
    "approximately equal across races [[recidDMB16]](#dieterich2016).\n",
    "\n",
    "Following [[recidKLL+17]](#kleinberg2017), we will call a prediction algorithm with this\n",
    "property  well-calibrated.\n",
    "\n",
    "Being well-calibrated is one criteria for fairness of a prediction algorithm.\n",
    "\n",
    "Pro Publica’s critique focuses on a different criteria – that the the\n",
    "probability of predicted categories conditional on true outcomes\n",
    "should be equal across groups (i.e. P(HighRisk|NoRecid) should be\n",
    "equal across races).\n",
    "\n",
    "[[recidKLL+17]](#kleinberg2017) calls a prediction algorithm with this property balanced."
   ]
  },
  {
   "cell_type": "markdown",
   "metadata": {},
   "source": [
    "### Visualizing Calibration and Balance\n",
    "\n",
    "We can get a slightly more detailed look at calibration and balance by\n",
    "recognizing that prediction algorithms typically compute a predicted\n",
    "probability, not just a discrete predicted outcome.\n",
    "\n",
    "The predicted outcome will typically be assigned to the category with the highest\n",
    "predicted probability.\n",
    "\n",
    "We can examine calibration graphically by plotting the P(recidivism | predicted probability)"
   ]
  },
  {
   "cell_type": "code",
   "execution_count": 33,
   "metadata": {
    "hide-output": false
   },
   "outputs": [
    {
     "data": {
      "image/png": "[encoded data removed]",
      "text/plain": [
       "<Figure size 864x432 with 6 Axes>"
      ]
     },
     "metadata": {
      "needs_background": "light"
     },
     "output_type": "display_data"
    }
   ],
   "source": [
    "import scipy\n",
    "\n",
    "def calibration_plot(pred, y, df, bins=20):\n",
    "    fig,ax = plt.subplots(3,2, figsize=(12,6), sharey=True, sharex=True)\n",
    "    for (g,group) in enumerate(groups):\n",
    "        if group in [\"African-American\", \"Caucasian\", \"Hispanic\"]:\n",
    "            subset=(df.race==group)\n",
    "        elif group in [\"Female\", \"Male\"]:\n",
    "            subset=(df.sex==group)\n",
    "        else:\n",
    "            subset=np.full(y.shape,True)\n",
    "        _ax = ax[np.unravel_index(g, ax.shape)]\n",
    "        y_sub = y[subset]\n",
    "        pred_sub = pred[subset]\n",
    "        mu, edges, n=scipy.stats.binned_statistic(pred_sub,y_sub,'mean',bins=bins)\n",
    "        se, edges,n=scipy.stats.binned_statistic(pred_sub,y_sub,\n",
    "                         lambda x: np.std(x)/np.sqrt(len(x)),bins=bins)\n",
    "        midpts = (edges[0:-1]+edges[1:])/2\n",
    "        _ax.errorbar(midpts, mu, yerr=1.64*se, fmt='o')\n",
    "        _ax.set_title(group)\n",
    "        _ax.set_ylabel(\"Observed recidivism\")\n",
    "        _ax.set_xlabel(\"Predicted P(recidivism)\")\n",
    "        x = np.linspace(*_ax.get_xlim())\n",
    "        _ax.plot(x, x)\n",
    "        _ax.set_xlim(0.0,1.0)\n",
    "    fig.tight_layout()\n",
    "    return(fig,ax)\n",
    "\n",
    "calibration_plot(decile_mod.predict_proba(X_test)[:,1],\n",
    "                 df_test[\"two_year_recid\"],\n",
    "                 df_test);"
   ]
  },
  {
   "cell_type": "markdown",
   "metadata": {},
   "source": [
    "This figure is one way to visualize how well-calibrated these\n",
    "predictions are.\n",
    "\n",
    "The dots are binned averages of observed recidivism, conditional on\n",
    "predicted recidivism being in some range.\n",
    "\n",
    "The error bars represent a 90% confidence interval.\n",
    "\n",
    "A perfectly calibrated prediction would have these dots all lie\n",
    "along the 45 degree line.\n",
    "\n",
    "For dots below the 45 degree line, the algorithm is overpredicting\n",
    "recidivism.\n",
    "\n",
    "\n",
    "<a id='exercise-1'></a>\n",
    "> See exercise 2 in the [*exercise list*](#exerciselist-0)"
   ]
  },
  {
   "cell_type": "code",
   "execution_count": 34,
   "metadata": {
    "hide-output": false
   },
   "outputs": [],
   "source": [
    "# Create calibration plot using training data"
   ]
  },
  {
   "cell_type": "markdown",
   "metadata": {},
   "source": [
    "The algorithm appears fairly well-calibrated.\n",
    "\n",
    "It does not seem to be making systematic errors in one direction based on any particular\n",
    "race– but it does appear to be systematic overprediction for females compared to males.\n",
    "\n",
    "Now, let’s create a figure to examine balance.\n",
    "\n",
    "Balance is about the distribution of predictions conditional on outcomes,\n",
    "so we will plot histograms of predicted probabilities conditional on realized\n",
    "outcomes."
   ]
  },
  {
   "cell_type": "code",
   "execution_count": 35,
   "metadata": {
    "hide-output": false
   },
   "outputs": [
    {
     "data": {
      "image/png": "[encoded data removed]",
      "text/plain": [
       "<Figure size 864x432 with 6 Axes>"
      ]
     },
     "metadata": {
      "needs_background": "light"
     },
     "output_type": "display_data"
    }
   ],
   "source": [
    "import seaborn as sns\n",
    "def balance_hist_plot(pred, y, df, bins=20):\n",
    "    fig,ax = plt.subplots(3,2, figsize=(12,6), sharey=True, sharex=True)\n",
    "    for (g,group) in enumerate(groups):\n",
    "        if group in [\"African-American\", \"Caucasian\", \"Hispanic\"]:\n",
    "            subset=(df.race==group)\n",
    "        elif group in [\"Female\", \"Male\"]:\n",
    "            subset=(df.sex==group)\n",
    "        else:\n",
    "            subset=np.full(y.shape,True)\n",
    "        _ax = ax[np.unravel_index(g, ax.shape)]\n",
    "        y_sub = y[subset]\n",
    "        pred_sub = pred[subset]\n",
    "        sns.distplot(pred_sub[y_sub==0], hist=True, bins=bins, kde=False, ax=_ax,\n",
    "                     label=\"No recidivate\", norm_hist=True, axlabel=\"Predicted Probability\")\n",
    "        sns.distplot(pred_sub[y_sub==1], hist=True, bins=bins, kde=False, ax=_ax,\n",
    "                     label=\"Yes recidivate\", norm_hist=True, axlabel=\"Predicted Probability\")\n",
    "        _ax.set_title(group)\n",
    "\n",
    "    plt.legend()\n",
    "    fig.tight_layout()\n",
    "    return(fig,ax)\n",
    "\n",
    "balance_hist_plot(decile_mod.predict_proba(X_test)[:,1],\n",
    "                  df_test[\"two_year_recid\"],\n",
    "                  df_test);"
   ]
  },
  {
   "cell_type": "markdown",
   "metadata": {},
   "source": [
    "This figure is somewhat useful, but not for depicting balance\n",
    "especially clearly, so let’s try something else.\n",
    "\n",
    "To get false positive and false negative rates, we must assign the predicted\n",
    "probabilities to outcomes.\n",
    "\n",
    "The most common choice would be to predict recidivism if the predicted\n",
    "probability is greater than 0.5.\n",
    "\n",
    "However, if we want to adjust the false positive and false negative rates, we\n",
    "might want to choose some other threshold and predict recidivism if\n",
    "the predicted probability exceeds this threshold.\n",
    "\n",
    "Different thresholds will lead to different false negative and false\n",
    "positive rates, so let’s plot these rates as functions of the threshold."
   ]
  },
  {
   "cell_type": "code",
   "execution_count": 36,
   "metadata": {
    "hide-output": false
   },
   "outputs": [
    {
     "data": {
      "image/png": "[encoded data removed]",
      "text/plain": [
       "<Figure size 864x432 with 4 Axes>"
      ]
     },
     "metadata": {
      "needs_background": "light"
     },
     "output_type": "display_data"
    }
   ],
   "source": [
    "def balance_threshold_plot(pred, y, df, bins=20):\n",
    "    fig,ax = plt.subplots(2,2, figsize=(12,6), sharey=True,\n",
    "                          sharex=True)\n",
    "    x = np.linspace(min(pred), max(pred), bins)\n",
    "    # get colors defined by theme\n",
    "    colors=plt.rcParams[\"axes.prop_cycle\"].by_key()[\"color\"]\n",
    "    for (g, group) in enumerate(groups):\n",
    "        if group in [\"African-American\", \"Caucasian\", \"Hispanic\"]:\n",
    "            subset=(df.race==group)\n",
    "            r = 0\n",
    "        elif group in [\"Female\", \"Male\"]:\n",
    "            subset=(df.sex==group)\n",
    "            r = 1\n",
    "        else:\n",
    "            continue\n",
    "        y_sub = y[subset]\n",
    "        pred_sub = pred[subset]\n",
    "        _ax = ax[r,0]\n",
    "        fn = np.array([np.mean(pred_sub[y_sub==1]<xi) for xi in x])\n",
    "        c1 = sum(y_sub==1)\n",
    "        sen = np.sqrt(fn*(1-fn)/c1)\n",
    "        fp = np.array([np.mean(pred_sub[y_sub==0]>xi) for xi in x])\n",
    "        c0 = sum(y_sub==0)\n",
    "        sep = np.sqrt(fp*(1-fp)/c0)\n",
    "        p=_ax.plot(x, fn, color=colors[g])\n",
    "        _ax.fill_between(x, fn-1.64*sen, fn+1.64*sen, alpha=0.25, color=colors[g])\n",
    "        _ax.annotate(group, (x[bins//7*g], fn[bins//7*g]), color=colors[g])\n",
    "        _ax.set_ylabel(\"False +/- Rate\")\n",
    "        _ax.set_xlabel(\"Threshold\")\n",
    "        _ax.set_title(\"False Negative Rate\")\n",
    "\n",
    "        _ax = ax[r,1]\n",
    "        p=_ax.plot(x, fp, color=colors[g])\n",
    "        _ax.fill_between(x, fp-1.64*sep, fp+1.64*sep, alpha=0.25, color=colors[g])\n",
    "        _ax.set_xlabel(\"Threshold\")\n",
    "        _ax.set_title(\"False Positive Rate\")\n",
    "\n",
    "    fig.tight_layout()\n",
    "    return(fig,ax)\n",
    "\n",
    "balance_threshold_plot(decile_mod.predict_proba(X_test)[:,1],\n",
    "                       df_test[\"two_year_recid\"],\n",
    "                       df_test);"
   ]
  },
  {
   "cell_type": "markdown",
   "metadata": {},
   "source": [
    "From this, we can more easily see the balance problem — regardless\n",
    "of which threshold we choose, African-Americans will have a higher\n",
    "false positive rate than Caucasians.\n",
    "\n",
    "We have seen that COMPAS scores are well-calibrated conditional on\n",
    "race, but not balanced.\n",
    "\n",
    "Can we create an alternative prediction that is both well-calibrated and balanced?"
   ]
  },
  {
   "cell_type": "markdown",
   "metadata": {},
   "source": [
    "### Creating an Alternative Prediction\n",
    "\n",
    "As a starting exercise, let’s predict recidivism using the variables\n",
    "in this dataset other than race and COMPAS score.\n",
    "\n",
    "Almost all variables in this data are categorical.\n",
    "\n",
    "Any function of categorical variables can be represented as a linear\n",
    "function of indicator variables and their interactions.\n",
    "\n",
    "Given that linearity in indicators does not impose any substantiative restriction\n",
    "here, a penalized linear model like lasso seems like a good choice for prediction.\n",
    "\n",
    "To keep the computation time reasonable, we do not include all interaction\n",
    "and indicator terms here.\n",
    "\n",
    "To ensure that predicted probabilities are between 0 and 1, we fit a logistic\n",
    "regression with an $ \\ell-1 $ penalty."
   ]
  },
  {
   "cell_type": "code",
   "execution_count": 37,
   "metadata": {
    "hide-output": false
   },
   "outputs": [
    {
     "name": "stdout",
     "output_type": "stream",
     "text": [
      "There are 260 features\n",
      "[LibLinear][LibLinear][LibLinear][LibLinear][LibLinear][LibLinear][LibLinear]"
     ]
    },
    {
     "name": "stderr",
     "output_type": "stream",
     "text": [
      "[Parallel(n_jobs=1)]: Using backend SequentialBackend with 1 concurrent workers.\n"
     ]
    },
    {
     "name": "stdout",
     "output_type": "stream",
     "text": [
      "[LibLinear]"
     ]
    },
    {
     "name": "stdout",
     "output_type": "stream",
     "text": [
      "[LibLinear]"
     ]
    },
    {
     "name": "stdout",
     "output_type": "stream",
     "text": [
      "[LibLinear]"
     ]
    },
    {
     "name": "stdout",
     "output_type": "stream",
     "text": [
      "[LibLinear][LibLinear][LibLinear][LibLinear][LibLinear][LibLinear][LibLinear]"
     ]
    },
    {
     "name": "stdout",
     "output_type": "stream",
     "text": [
      "[LibLinear]"
     ]
    },
    {
     "name": "stdout",
     "output_type": "stream",
     "text": [
      "[LibLinear]"
     ]
    },
    {
     "name": "stdout",
     "output_type": "stream",
     "text": [
      "[LibLinear]"
     ]
    },
    {
     "name": "stdout",
     "output_type": "stream",
     "text": [
      "[LibLinear][LibLinear][LibLinear][LibLinear][LibLinear][LibLinear][LibLinear]"
     ]
    },
    {
     "name": "stdout",
     "output_type": "stream",
     "text": [
      "[LibLinear]"
     ]
    },
    {
     "name": "stdout",
     "output_type": "stream",
     "text": [
      "[LibLinear]"
     ]
    },
    {
     "name": "stdout",
     "output_type": "stream",
     "text": [
      "[LibLinear]"
     ]
    },
    {
     "name": "stdout",
     "output_type": "stream",
     "text": [
      "[LibLinear][LibLinear][LibLinear][LibLinear][LibLinear][LibLinear][LibLinear]"
     ]
    },
    {
     "name": "stdout",
     "output_type": "stream",
     "text": [
      "[LibLinear]"
     ]
    },
    {
     "name": "stdout",
     "output_type": "stream",
     "text": [
      "[LibLinear]"
     ]
    },
    {
     "name": "stdout",
     "output_type": "stream",
     "text": [
      "[LibLinear]"
     ]
    },
    {
     "name": "stdout",
     "output_type": "stream",
     "text": [
      "[LibLinear][LibLinear][LibLinear][LibLinear][LibLinear][LibLinear]"
     ]
    },
    {
     "name": "stdout",
     "output_type": "stream",
     "text": [
      "[LibLinear]"
     ]
    },
    {
     "name": "stdout",
     "output_type": "stream",
     "text": [
      "[LibLinear]"
     ]
    },
    {
     "name": "stdout",
     "output_type": "stream",
     "text": [
      "[LibLinear]"
     ]
    },
    {
     "name": "stdout",
     "output_type": "stream",
     "text": [
      "[LibLinear]"
     ]
    },
    {
     "name": "stderr",
     "output_type": "stream",
     "text": [
      "[Parallel(n_jobs=1)]: Done   5 out of   5 | elapsed:    6.6s finished\n"
     ]
    }
   ],
   "source": [
    "from sklearn import model_selection, linear_model\n",
    "from patsy import dmatrices\n",
    "\n",
    "# charge_desc has many values with one observations, we will\n",
    "# combine these descriptions into a single \"other.\" This could\n",
    "# be improved upon by looking at the text of descriptions and\n",
    "# combining.\n",
    "df.c_charge_desc = df.c_charge_desc.fillna(\"\")\n",
    "df[\"charge_cat\"] = df.c_charge_desc\n",
    "cnt = df.c_charge_desc.value_counts()[df.c_charge_desc]\n",
    "cnt.index = df.index\n",
    "df.loc[cnt<10,\"charge_cat\"] = \"other\"\n",
    "df.charge_cat = df.charge_cat.astype('category')\n",
    "df.sex = df.sex.astype('category')\n",
    "\n",
    "\n",
    "fmla = \"two_year_recid ~ sex*(age + juv_fel_count + juv_misd_count + juv_other_count + C(priors_count) + c_charge_degree + charge_cat)\"\n",
    "\n",
    "y,X = dmatrices(fmla, df)\n",
    "print(\"There are {} features\".format(X.shape[1]))\n",
    "X_train, X_test, y_train, y_test, df_train, df_test = model_selection.train_test_split(\n",
    "    X,pd.Series(y.reshape(-1),index=df.index),df, test_size=0.25, random_state=42\n",
    ")\n",
    "\n",
    "lasso_mod=linear_model.LogisticRegressionCV(cv=5,verbose=True,\n",
    "                                            Cs=10, penalty='l1',\n",
    "                                            max_iter=100,\n",
    "                                            scoring=\"neg_log_loss\",\n",
    "                                            solver=\"liblinear\").fit(X_train, y_train)"
   ]
  },
  {
   "cell_type": "markdown",
   "metadata": {},
   "source": [
    "Let’s look at the regularization parameter chosen and the non-zero coefficients."
   ]
  },
  {
   "cell_type": "code",
   "execution_count": 38,
   "metadata": {
    "hide-output": false
   },
   "outputs": [
    {
     "data": {
      "image/png": "[encoded data removed]",
      "text/plain": [
       "<Figure size 432x288 with 2 Axes>"
      ]
     },
     "metadata": {
      "needs_background": "light"
     },
     "output_type": "display_data"
    }
   ],
   "source": [
    "# plots illustrating regularization parameter choice\n",
    "scores=lasso_mod.scores_[1.0].mean(axis=0)\n",
    "logpenalties=np.log(lasso_mod.Cs_)\n",
    "nnonzero=(np.abs(lasso_mod.coefs_paths_[1.0])>1e-6).sum(axis=2).mean(axis=0)\n",
    "colors=plt.rcParams[\"axes.prop_cycle\"].by_key()[\"color\"]\n",
    "fig, ax1 = plt.subplots()\n",
    "ax1.plot(logpenalties,scores, color=colors[0])\n",
    "ax1.set_ylabel(\"CV log likelihood\", color=colors[0])\n",
    "ax1.set_xlabel(\"-log(penalty)\")\n",
    "ax1.tick_params('y', colors=colors[0])\n",
    "ax2 = ax1.twinx()\n",
    "ax2.plot(logpenalties,nnonzero, color=colors[1])\n",
    "ax2.set_ylabel(\"nonzero coefficients\", color=colors[1])\n",
    "ax2.tick_params('y', colors=colors[1])\n",
    "ax2.grid(b=None);"
   ]
  },
  {
   "cell_type": "markdown",
   "metadata": {},
   "source": [
    "Let’s also look at the nonzero coefficients. We should be careful\n",
    "about interpreting these, since relatively strong assumptions are\n",
    "needed for lasso to produce consistent coefficient estimates.\n",
    "\n",
    ">**Note**\n",
    ">\n",
    ">Lasso gives accurate predictions under weaker assumptions than needed for\n",
    "consistent coefficient estimates."
   ]
  },
  {
   "cell_type": "code",
   "execution_count": 39,
   "metadata": {
    "hide-output": false
   },
   "outputs": [
    {
     "name": "stdout",
     "output_type": "stream",
     "text": [
      "81\n"
     ]
    },
    {
     "data": {
      "text/html": [
       "<div>\n",
       "<style scoped>\n",
       "    .dataframe tbody tr th:only-of-type {\n",
       "        vertical-align: middle;\n",
       "    }\n",
       "\n",
       "    .dataframe tbody tr th {\n",
       "        vertical-align: top;\n",
       "    }\n",
       "\n",
       "    .dataframe thead th {\n",
       "        text-align: right;\n",
       "    }\n",
       "</style>\n",
       "<table border=\"1\" class=\"dataframe\">\n",
       "  <thead>\n",
       "    <tr style=\"text-align: right;\">\n",
       "      <th></th>\n",
       "      <th>Value</th>\n",
       "    </tr>\n",
       "  </thead>\n",
       "  <tbody>\n",
       "    <tr>\n",
       "      <th>sex[T.Male]</th>\n",
       "      <td>0.723115</td>\n",
       "    </tr>\n",
       "    <tr>\n",
       "      <th>C(priors_count)[T.2]</th>\n",
       "      <td>0.325160</td>\n",
       "    </tr>\n",
       "    <tr>\n",
       "      <th>C(priors_count)[T.3]</th>\n",
       "      <td>0.612119</td>\n",
       "    </tr>\n",
       "    <tr>\n",
       "      <th>C(priors_count)[T.4]</th>\n",
       "      <td>0.749684</td>\n",
       "    </tr>\n",
       "    <tr>\n",
       "      <th>C(priors_count)[T.5]</th>\n",
       "      <td>0.732782</td>\n",
       "    </tr>\n",
       "    <tr>\n",
       "      <th>C(priors_count)[T.6]</th>\n",
       "      <td>0.792273</td>\n",
       "    </tr>\n",
       "    <tr>\n",
       "      <th>C(priors_count)[T.7]</th>\n",
       "      <td>1.032676</td>\n",
       "    </tr>\n",
       "    <tr>\n",
       "      <th>C(priors_count)[T.8]</th>\n",
       "      <td>1.322583</td>\n",
       "    </tr>\n",
       "    <tr>\n",
       "      <th>C(priors_count)[T.9]</th>\n",
       "      <td>1.286929</td>\n",
       "    </tr>\n",
       "    <tr>\n",
       "      <th>C(priors_count)[T.10]</th>\n",
       "      <td>1.318631</td>\n",
       "    </tr>\n",
       "    <tr>\n",
       "      <th>C(priors_count)[T.11]</th>\n",
       "      <td>1.236912</td>\n",
       "    </tr>\n",
       "    <tr>\n",
       "      <th>C(priors_count)[T.12]</th>\n",
       "      <td>0.985715</td>\n",
       "    </tr>\n",
       "    <tr>\n",
       "      <th>C(priors_count)[T.13]</th>\n",
       "      <td>1.528297</td>\n",
       "    </tr>\n",
       "    <tr>\n",
       "      <th>C(priors_count)[T.14]</th>\n",
       "      <td>0.406161</td>\n",
       "    </tr>\n",
       "    <tr>\n",
       "      <th>C(priors_count)[T.15]</th>\n",
       "      <td>0.781425</td>\n",
       "    </tr>\n",
       "    <tr>\n",
       "      <th>C(priors_count)[T.16]</th>\n",
       "      <td>1.039802</td>\n",
       "    </tr>\n",
       "    <tr>\n",
       "      <th>C(priors_count)[T.17]</th>\n",
       "      <td>0.371292</td>\n",
       "    </tr>\n",
       "    <tr>\n",
       "      <th>C(priors_count)[T.18]</th>\n",
       "      <td>1.524303</td>\n",
       "    </tr>\n",
       "    <tr>\n",
       "      <th>C(priors_count)[T.19]</th>\n",
       "      <td>1.143287</td>\n",
       "    </tr>\n",
       "    <tr>\n",
       "      <th>C(priors_count)[T.20]</th>\n",
       "      <td>0.116774</td>\n",
       "    </tr>\n",
       "    <tr>\n",
       "      <th>C(priors_count)[T.21]</th>\n",
       "      <td>1.298623</td>\n",
       "    </tr>\n",
       "    <tr>\n",
       "      <th>C(priors_count)[T.22]</th>\n",
       "      <td>1.676853</td>\n",
       "    </tr>\n",
       "    <tr>\n",
       "      <th>C(priors_count)[T.23]</th>\n",
       "      <td>1.332248</td>\n",
       "    </tr>\n",
       "    <tr>\n",
       "      <th>C(priors_count)[T.25]</th>\n",
       "      <td>0.481995</td>\n",
       "    </tr>\n",
       "    <tr>\n",
       "      <th>C(priors_count)[T.26]</th>\n",
       "      <td>0.073245</td>\n",
       "    </tr>\n",
       "    <tr>\n",
       "      <th>c_charge_degree[T.M]</th>\n",
       "      <td>-0.228300</td>\n",
       "    </tr>\n",
       "    <tr>\n",
       "      <th>charge_cat[T.Aggrav Battery w/Deadly Weapon]</th>\n",
       "      <td>-0.152941</td>\n",
       "    </tr>\n",
       "    <tr>\n",
       "      <th>charge_cat[T.Aggravated Assault W/dead Weap]</th>\n",
       "      <td>-0.457772</td>\n",
       "    </tr>\n",
       "    <tr>\n",
       "      <th>charge_cat[T.Aggravated Battery]</th>\n",
       "      <td>-0.426281</td>\n",
       "    </tr>\n",
       "    <tr>\n",
       "      <th>charge_cat[T.Battery]</th>\n",
       "      <td>-0.008886</td>\n",
       "    </tr>\n",
       "    <tr>\n",
       "      <th>charge_cat[T.Battery on Law Enforc Officer]</th>\n",
       "      <td>0.312807</td>\n",
       "    </tr>\n",
       "    <tr>\n",
       "      <th>charge_cat[T.Burglary Unoccupied Dwelling]</th>\n",
       "      <td>-0.151990</td>\n",
       "    </tr>\n",
       "    <tr>\n",
       "      <th>charge_cat[T.Criminal Mischief]</th>\n",
       "      <td>0.441634</td>\n",
       "    </tr>\n",
       "    <tr>\n",
       "      <th>charge_cat[T.DUI Level 0.15 Or Minor In Veh]</th>\n",
       "      <td>-0.043711</td>\n",
       "    </tr>\n",
       "    <tr>\n",
       "      <th>charge_cat[T.DUI Property Damage/Injury]</th>\n",
       "      <td>-0.957393</td>\n",
       "    </tr>\n",
       "    <tr>\n",
       "      <th>charge_cat[T.Driving License Suspended]</th>\n",
       "      <td>-0.062568</td>\n",
       "    </tr>\n",
       "    <tr>\n",
       "      <th>charge_cat[T.Driving Under The Influence]</th>\n",
       "      <td>-0.140901</td>\n",
       "    </tr>\n",
       "    <tr>\n",
       "      <th>charge_cat[T.Felony Driving While Lic Suspd]</th>\n",
       "      <td>0.182718</td>\n",
       "    </tr>\n",
       "    <tr>\n",
       "      <th>charge_cat[T.Felony Petit Theft]</th>\n",
       "      <td>0.697401</td>\n",
       "    </tr>\n",
       "    <tr>\n",
       "      <th>charge_cat[T.Grand Theft (Motor Vehicle)]</th>\n",
       "      <td>0.134780</td>\n",
       "    </tr>\n",
       "    <tr>\n",
       "      <th>charge_cat[T.Operating W/O Valid License]</th>\n",
       "      <td>-0.084362</td>\n",
       "    </tr>\n",
       "    <tr>\n",
       "      <th>charge_cat[T.Petit Theft]</th>\n",
       "      <td>0.574904</td>\n",
       "    </tr>\n",
       "    <tr>\n",
       "      <th>charge_cat[T.Petit Theft $100- $300]</th>\n",
       "      <td>0.019334</td>\n",
       "    </tr>\n",
       "    <tr>\n",
       "      <th>charge_cat[T.Poss Pyrrolidinovalerophenone]</th>\n",
       "      <td>2.135396</td>\n",
       "    </tr>\n",
       "    <tr>\n",
       "      <th>charge_cat[T.Poss3,4 Methylenedioxymethcath]</th>\n",
       "      <td>-0.186764</td>\n",
       "    </tr>\n",
       "    <tr>\n",
       "      <th>charge_cat[T.Possession of Cannabis]</th>\n",
       "      <td>-0.395041</td>\n",
       "    </tr>\n",
       "    <tr>\n",
       "      <th>charge_cat[T.Possession of Cocaine]</th>\n",
       "      <td>0.595580</td>\n",
       "    </tr>\n",
       "    <tr>\n",
       "      <th>charge_cat[T.Viol Injunct Domestic Violence]</th>\n",
       "      <td>0.135897</td>\n",
       "    </tr>\n",
       "    <tr>\n",
       "      <th>charge_cat[T.Viol Pretrial Release Dom Viol]</th>\n",
       "      <td>0.230950</td>\n",
       "    </tr>\n",
       "    <tr>\n",
       "      <th>charge_cat[T.arrest case no charge]</th>\n",
       "      <td>-0.181117</td>\n",
       "    </tr>\n",
       "    <tr>\n",
       "      <th>charge_cat[T.other]</th>\n",
       "      <td>-0.196754</td>\n",
       "    </tr>\n",
       "    <tr>\n",
       "      <th>sex[T.Male]:C(priors_count)[T.1]</th>\n",
       "      <td>0.034419</td>\n",
       "    </tr>\n",
       "    <tr>\n",
       "      <th>sex[T.Male]:C(priors_count)[T.3]</th>\n",
       "      <td>0.087910</td>\n",
       "    </tr>\n",
       "    <tr>\n",
       "      <th>sex[T.Male]:C(priors_count)[T.6]</th>\n",
       "      <td>0.036073</td>\n",
       "    </tr>\n",
       "    <tr>\n",
       "      <th>sex[T.Male]:C(priors_count)[T.10]</th>\n",
       "      <td>0.200116</td>\n",
       "    </tr>\n",
       "    <tr>\n",
       "      <th>sex[T.Male]:C(priors_count)[T.14]</th>\n",
       "      <td>0.709606</td>\n",
       "    </tr>\n",
       "    <tr>\n",
       "      <th>sex[T.Male]:C(priors_count)[T.16]</th>\n",
       "      <td>0.268492</td>\n",
       "    </tr>\n",
       "    <tr>\n",
       "      <th>sex[T.Male]:C(priors_count)[T.17]</th>\n",
       "      <td>1.114876</td>\n",
       "    </tr>\n",
       "    <tr>\n",
       "      <th>sex[T.Male]:C(priors_count)[T.26]</th>\n",
       "      <td>0.834394</td>\n",
       "    </tr>\n",
       "    <tr>\n",
       "      <th>sex[T.Male]:c_charge_degree[T.M]</th>\n",
       "      <td>0.163881</td>\n",
       "    </tr>\n",
       "    <tr>\n",
       "      <th>sex[T.Male]:charge_cat[T.Aggravated Battery / Pregnant]</th>\n",
       "      <td>0.024307</td>\n",
       "    </tr>\n",
       "    <tr>\n",
       "      <th>sex[T.Male]:charge_cat[T.Burglary Conveyance Unoccup]</th>\n",
       "      <td>0.516812</td>\n",
       "    </tr>\n",
       "    <tr>\n",
       "      <th>sex[T.Male]:charge_cat[T.Corrupt Public Servant]</th>\n",
       "      <td>0.717877</td>\n",
       "    </tr>\n",
       "    <tr>\n",
       "      <th>sex[T.Male]:charge_cat[T.Crimin Mischief Damage $1000+]</th>\n",
       "      <td>0.044218</td>\n",
       "    </tr>\n",
       "    <tr>\n",
       "      <th>sex[T.Male]:charge_cat[T.Driving License Suspended]</th>\n",
       "      <td>-0.000898</td>\n",
       "    </tr>\n",
       "    <tr>\n",
       "      <th>sex[T.Male]:charge_cat[T.Driving Under The Influence]</th>\n",
       "      <td>-0.035348</td>\n",
       "    </tr>\n",
       "    <tr>\n",
       "      <th>sex[T.Male]:charge_cat[T.Driving While License Revoked]</th>\n",
       "      <td>-0.094735</td>\n",
       "    </tr>\n",
       "    <tr>\n",
       "      <th>sex[T.Male]:charge_cat[T.False Ownership Info/Pawn Item]</th>\n",
       "      <td>0.480693</td>\n",
       "    </tr>\n",
       "    <tr>\n",
       "      <th>sex[T.Male]:charge_cat[T.Felony Battery w/Prior Convict]</th>\n",
       "      <td>-0.096506</td>\n",
       "    </tr>\n",
       "    <tr>\n",
       "      <th>sex[T.Male]:charge_cat[T.Felony Driving While Lic Suspd]</th>\n",
       "      <td>0.115022</td>\n",
       "    </tr>\n",
       "    <tr>\n",
       "      <th>sex[T.Male]:charge_cat[T.Grand Theft in the 3rd Degree]</th>\n",
       "      <td>0.277293</td>\n",
       "    </tr>\n",
       "    <tr>\n",
       "      <th>sex[T.Male]:charge_cat[T.Petit Theft]</th>\n",
       "      <td>0.199645</td>\n",
       "    </tr>\n",
       "    <tr>\n",
       "      <th>sex[T.Male]:charge_cat[T.Possession of Cannabis]</th>\n",
       "      <td>-0.051002</td>\n",
       "    </tr>\n",
       "    <tr>\n",
       "      <th>sex[T.Male]:charge_cat[T.Resist/Obstruct W/O Violence]</th>\n",
       "      <td>0.272839</td>\n",
       "    </tr>\n",
       "    <tr>\n",
       "      <th>sex[T.Male]:charge_cat[T.Viol Injunct Domestic Violence]</th>\n",
       "      <td>0.325545</td>\n",
       "    </tr>\n",
       "    <tr>\n",
       "      <th>age</th>\n",
       "      <td>-0.024271</td>\n",
       "    </tr>\n",
       "    <tr>\n",
       "      <th>sex[T.Male]:age</th>\n",
       "      <td>-0.014749</td>\n",
       "    </tr>\n",
       "    <tr>\n",
       "      <th>juv_fel_count</th>\n",
       "      <td>0.302091</td>\n",
       "    </tr>\n",
       "    <tr>\n",
       "      <th>sex[T.Male]:juv_misd_count</th>\n",
       "      <td>0.181030</td>\n",
       "    </tr>\n",
       "    <tr>\n",
       "      <th>juv_other_count</th>\n",
       "      <td>0.149022</td>\n",
       "    </tr>\n",
       "    <tr>\n",
       "      <th>sex[T.Male]:juv_other_count</th>\n",
       "      <td>-0.019040</td>\n",
       "    </tr>\n",
       "  </tbody>\n",
       "</table>\n",
       "</div>"
      ],
      "text/plain": [
       "                                                       Value\n",
       "sex[T.Male]                                         0.723115\n",
       "C(priors_count)[T.2]                                0.325160\n",
       "C(priors_count)[T.3]                                0.612119\n",
       "C(priors_count)[T.4]                                0.749684\n",
       "C(priors_count)[T.5]                                0.732782\n",
       "C(priors_count)[T.6]                                0.792273\n",
       "C(priors_count)[T.7]                                1.032676\n",
       "C(priors_count)[T.8]                                1.322583\n",
       "C(priors_count)[T.9]                                1.286929\n",
       "C(priors_count)[T.10]                               1.318631\n",
       "C(priors_count)[T.11]                               1.236912\n",
       "C(priors_count)[T.12]                               0.985715\n",
       "C(priors_count)[T.13]                               1.528297\n",
       "C(priors_count)[T.14]                               0.406161\n",
       "C(priors_count)[T.15]                               0.781425\n",
       "C(priors_count)[T.16]                               1.039802\n",
       "C(priors_count)[T.17]                               0.371292\n",
       "C(priors_count)[T.18]                               1.524303\n",
       "C(priors_count)[T.19]                               1.143287\n",
       "C(priors_count)[T.20]                               0.116774\n",
       "C(priors_count)[T.21]                               1.298623\n",
       "C(priors_count)[T.22]                               1.676853\n",
       "C(priors_count)[T.23]                               1.332248\n",
       "C(priors_count)[T.25]                               0.481995\n",
       "C(priors_count)[T.26]                               0.073245\n",
       "c_charge_degree[T.M]                               -0.228300\n",
       "charge_cat[T.Aggrav Battery w/Deadly Weapon]       -0.152941\n",
       "charge_cat[T.Aggravated Assault W/dead Weap]       -0.457772\n",
       "charge_cat[T.Aggravated Battery]                   -0.426281\n",
       "charge_cat[T.Battery]                              -0.008886\n",
       "charge_cat[T.Battery on Law Enforc Officer]         0.312807\n",
       "charge_cat[T.Burglary Unoccupied Dwelling]         -0.151990\n",
       "charge_cat[T.Criminal Mischief]                     0.441634\n",
       "charge_cat[T.DUI Level 0.15 Or Minor In Veh]       -0.043711\n",
       "charge_cat[T.DUI Property Damage/Injury]           -0.957393\n",
       "charge_cat[T.Driving License Suspended]            -0.062568\n",
       "charge_cat[T.Driving Under The Influence]          -0.140901\n",
       "charge_cat[T.Felony Driving While Lic Suspd]        0.182718\n",
       "charge_cat[T.Felony Petit Theft]                    0.697401\n",
       "charge_cat[T.Grand Theft (Motor Vehicle)]           0.134780\n",
       "charge_cat[T.Operating W/O Valid License]          -0.084362\n",
       "charge_cat[T.Petit Theft]                           0.574904\n",
       "charge_cat[T.Petit Theft $100- $300]                0.019334\n",
       "charge_cat[T.Poss Pyrrolidinovalerophenone]         2.135396\n",
       "charge_cat[T.Poss3,4 Methylenedioxymethcath]       -0.186764\n",
       "charge_cat[T.Possession of Cannabis]               -0.395041\n",
       "charge_cat[T.Possession of Cocaine]                 0.595580\n",
       "charge_cat[T.Viol Injunct Domestic Violence]        0.135897\n",
       "charge_cat[T.Viol Pretrial Release Dom Viol]        0.230950\n",
       "charge_cat[T.arrest case no charge]                -0.181117\n",
       "charge_cat[T.other]                                -0.196754\n",
       "sex[T.Male]:C(priors_count)[T.1]                    0.034419\n",
       "sex[T.Male]:C(priors_count)[T.3]                    0.087910\n",
       "sex[T.Male]:C(priors_count)[T.6]                    0.036073\n",
       "sex[T.Male]:C(priors_count)[T.10]                   0.200116\n",
       "sex[T.Male]:C(priors_count)[T.14]                   0.709606\n",
       "sex[T.Male]:C(priors_count)[T.16]                   0.268492\n",
       "sex[T.Male]:C(priors_count)[T.17]                   1.114876\n",
       "sex[T.Male]:C(priors_count)[T.26]                   0.834394\n",
       "sex[T.Male]:c_charge_degree[T.M]                    0.163881\n",
       "sex[T.Male]:charge_cat[T.Aggravated Battery / P...  0.024307\n",
       "sex[T.Male]:charge_cat[T.Burglary Conveyance Un...  0.516812\n",
       "sex[T.Male]:charge_cat[T.Corrupt Public Servant]    0.717877\n",
       "sex[T.Male]:charge_cat[T.Crimin Mischief Damage...  0.044218\n",
       "sex[T.Male]:charge_cat[T.Driving License Suspen... -0.000898\n",
       "sex[T.Male]:charge_cat[T.Driving Under The Infl... -0.035348\n",
       "sex[T.Male]:charge_cat[T.Driving While License ... -0.094735\n",
       "sex[T.Male]:charge_cat[T.False Ownership Info/P...  0.480693\n",
       "sex[T.Male]:charge_cat[T.Felony Battery w/Prior... -0.096506\n",
       "sex[T.Male]:charge_cat[T.Felony Driving While L...  0.115022\n",
       "sex[T.Male]:charge_cat[T.Grand Theft in the 3rd...  0.277293\n",
       "sex[T.Male]:charge_cat[T.Petit Theft]               0.199645\n",
       "sex[T.Male]:charge_cat[T.Possession of Cannabis]   -0.051002\n",
       "sex[T.Male]:charge_cat[T.Resist/Obstruct W/O Vi...  0.272839\n",
       "sex[T.Male]:charge_cat[T.Viol Injunct Domestic ...  0.325545\n",
       "age                                                -0.024271\n",
       "sex[T.Male]:age                                    -0.014749\n",
       "juv_fel_count                                       0.302091\n",
       "sex[T.Male]:juv_misd_count                          0.181030\n",
       "juv_other_count                                     0.149022\n",
       "sex[T.Male]:juv_other_count                        -0.019040"
      ]
     },
     "metadata": {},
     "output_type": "display_data"
    }
   ],
   "source": [
    "# table of nonzero coefficients\n",
    "coef = pd.DataFrame(index = X.design_info.column_names, columns=[\"Value\"])\n",
    "coef.Value = np.transpose(lasso_mod.coef_)\n",
    "print(sum(np.abs(coef.Value)>1.0e-8))\n",
    "with pd.option_context('display.max_rows', None):\n",
    "    display(coef[np.abs(coef.Value)>1.0e-8])"
   ]
  },
  {
   "cell_type": "markdown",
   "metadata": {},
   "source": [
    "Now, let’s look at calibration and balance using similar tables and\n",
    "figures as we did above."
   ]
  },
  {
   "cell_type": "code",
   "execution_count": 40,
   "metadata": {
    "hide-output": false
   },
   "outputs": [
    {
     "data": {
      "text/html": [
       "<div>\n",
       "<style scoped>\n",
       "    .dataframe tbody tr th:only-of-type {\n",
       "        vertical-align: middle;\n",
       "    }\n",
       "\n",
       "    .dataframe tbody tr th {\n",
       "        vertical-align: top;\n",
       "    }\n",
       "\n",
       "    .dataframe thead th {\n",
       "        text-align: right;\n",
       "    }\n",
       "</style>\n",
       "<table border=\"1\" class=\"dataframe\">\n",
       "  <thead>\n",
       "    <tr style=\"text-align: right;\">\n",
       "      <th></th>\n",
       "      <th>overall</th>\n",
       "      <th>African-American</th>\n",
       "      <th>Caucasian</th>\n",
       "      <th>Hispanic</th>\n",
       "      <th>Female</th>\n",
       "      <th>Male</th>\n",
       "    </tr>\n",
       "  </thead>\n",
       "  <tbody>\n",
       "    <tr>\n",
       "      <th>Portion_of_NoRecid_and_LowRisk</th>\n",
       "      <td>0.411903</td>\n",
       "      <td>0.332272</td>\n",
       "      <td>0.490000</td>\n",
       "      <td>0.593548</td>\n",
       "      <td>0.596542</td>\n",
       "      <td>0.364444</td>\n",
       "    </tr>\n",
       "    <tr>\n",
       "      <th>Portion_of_Recid_and_LowRisk</th>\n",
       "      <td>0.141426</td>\n",
       "      <td>0.161359</td>\n",
       "      <td>0.121667</td>\n",
       "      <td>0.096774</td>\n",
       "      <td>0.048991</td>\n",
       "      <td>0.165185</td>\n",
       "    </tr>\n",
       "    <tr>\n",
       "      <th>Portion_of_NoRecid_and_HighRisk</th>\n",
       "      <td>0.190925</td>\n",
       "      <td>0.182590</td>\n",
       "      <td>0.201667</td>\n",
       "      <td>0.200000</td>\n",
       "      <td>0.250720</td>\n",
       "      <td>0.175556</td>\n",
       "    </tr>\n",
       "    <tr>\n",
       "      <th>Portion_of_Recid_and_HighRisk</th>\n",
       "      <td>0.255745</td>\n",
       "      <td>0.323779</td>\n",
       "      <td>0.186667</td>\n",
       "      <td>0.109677</td>\n",
       "      <td>0.103746</td>\n",
       "      <td>0.294815</td>\n",
       "    </tr>\n",
       "  </tbody>\n",
       "</table>\n",
       "</div>"
      ],
      "text/plain": [
       "                                  overall  African-American  Caucasian  \\\n",
       "Portion_of_NoRecid_and_LowRisk   0.411903          0.332272   0.490000   \n",
       "Portion_of_Recid_and_LowRisk     0.141426          0.161359   0.121667   \n",
       "Portion_of_NoRecid_and_HighRisk  0.190925          0.182590   0.201667   \n",
       "Portion_of_Recid_and_HighRisk    0.255745          0.323779   0.186667   \n",
       "\n",
       "                                 Hispanic    Female      Male  \n",
       "Portion_of_NoRecid_and_LowRisk   0.593548  0.596542  0.364444  \n",
       "Portion_of_Recid_and_LowRisk     0.096774  0.048991  0.165185  \n",
       "Portion_of_NoRecid_and_HighRisk  0.200000  0.250720  0.175556  \n",
       "Portion_of_Recid_and_HighRisk    0.109677  0.103746  0.294815  "
      ]
     },
     "metadata": {},
     "output_type": "display_data"
    },
    {
     "data": {
      "text/html": [
       "<div>\n",
       "<style scoped>\n",
       "    .dataframe tbody tr th:only-of-type {\n",
       "        vertical-align: middle;\n",
       "    }\n",
       "\n",
       "    .dataframe tbody tr th {\n",
       "        vertical-align: top;\n",
       "    }\n",
       "\n",
       "    .dataframe thead th {\n",
       "        text-align: right;\n",
       "    }\n",
       "</style>\n",
       "<table border=\"1\" class=\"dataframe\">\n",
       "  <thead>\n",
       "    <tr style=\"text-align: right;\">\n",
       "      <th></th>\n",
       "      <th>overall</th>\n",
       "      <th>African-American</th>\n",
       "      <th>Caucasian</th>\n",
       "      <th>Hispanic</th>\n",
       "      <th>Female</th>\n",
       "      <th>Male</th>\n",
       "    </tr>\n",
       "  </thead>\n",
       "  <tbody>\n",
       "    <tr>\n",
       "      <th>P(NoRecid|LowRisk)</th>\n",
       "      <td>0.683284</td>\n",
       "      <td>0.645361</td>\n",
       "      <td>0.708434</td>\n",
       "      <td>0.747967</td>\n",
       "      <td>0.704082</td>\n",
       "      <td>0.674897</td>\n",
       "    </tr>\n",
       "    <tr>\n",
       "      <th>P(NoRecid|HighRisk)</th>\n",
       "      <td>0.356083</td>\n",
       "      <td>0.332604</td>\n",
       "      <td>0.394595</td>\n",
       "      <td>0.468750</td>\n",
       "      <td>0.320755</td>\n",
       "      <td>0.359098</td>\n",
       "    </tr>\n",
       "    <tr>\n",
       "      <th>P(Recid|LowRisk)</th>\n",
       "      <td>0.316716</td>\n",
       "      <td>0.354639</td>\n",
       "      <td>0.291566</td>\n",
       "      <td>0.252033</td>\n",
       "      <td>0.295918</td>\n",
       "      <td>0.325103</td>\n",
       "    </tr>\n",
       "    <tr>\n",
       "      <th>P(Recid|HighRisk)</th>\n",
       "      <td>0.643917</td>\n",
       "      <td>0.667396</td>\n",
       "      <td>0.605405</td>\n",
       "      <td>0.531250</td>\n",
       "      <td>0.679245</td>\n",
       "      <td>0.640902</td>\n",
       "    </tr>\n",
       "  </tbody>\n",
       "</table>\n",
       "</div>"
      ],
      "text/plain": [
       "                      overall  African-American  Caucasian  Hispanic  \\\n",
       "P(NoRecid|LowRisk)   0.683284          0.645361   0.708434  0.747967   \n",
       "P(NoRecid|HighRisk)  0.356083          0.332604   0.394595  0.468750   \n",
       "P(Recid|LowRisk)     0.316716          0.354639   0.291566  0.252033   \n",
       "P(Recid|HighRisk)    0.643917          0.667396   0.605405  0.531250   \n",
       "\n",
       "                       Female      Male  \n",
       "P(NoRecid|LowRisk)   0.704082  0.674897  \n",
       "P(NoRecid|HighRisk)  0.320755  0.359098  \n",
       "P(Recid|LowRisk)     0.295918  0.325103  \n",
       "P(Recid|HighRisk)    0.679245  0.640902  "
      ]
     },
     "metadata": {},
     "output_type": "display_data"
    },
    {
     "data": {
      "text/html": [
       "<div>\n",
       "<style scoped>\n",
       "    .dataframe tbody tr th:only-of-type {\n",
       "        vertical-align: middle;\n",
       "    }\n",
       "\n",
       "    .dataframe tbody tr th {\n",
       "        vertical-align: top;\n",
       "    }\n",
       "\n",
       "    .dataframe thead th {\n",
       "        text-align: right;\n",
       "    }\n",
       "</style>\n",
       "<table border=\"1\" class=\"dataframe\">\n",
       "  <thead>\n",
       "    <tr style=\"text-align: right;\">\n",
       "      <th></th>\n",
       "      <th>overall</th>\n",
       "      <th>African-American</th>\n",
       "      <th>Caucasian</th>\n",
       "      <th>Hispanic</th>\n",
       "      <th>Female</th>\n",
       "      <th>Male</th>\n",
       "    </tr>\n",
       "  </thead>\n",
       "  <tbody>\n",
       "    <tr>\n",
       "      <th>P(LowRisk|NoRecid)</th>\n",
       "      <td>0.744409</td>\n",
       "      <td>0.673118</td>\n",
       "      <td>0.801090</td>\n",
       "      <td>0.859813</td>\n",
       "      <td>0.924107</td>\n",
       "      <td>0.688112</td>\n",
       "    </tr>\n",
       "    <tr>\n",
       "      <th>P(HighRisk|NoRecid)</th>\n",
       "      <td>0.255591</td>\n",
       "      <td>0.326882</td>\n",
       "      <td>0.198910</td>\n",
       "      <td>0.140187</td>\n",
       "      <td>0.075893</td>\n",
       "      <td>0.311888</td>\n",
       "    </tr>\n",
       "    <tr>\n",
       "      <th>P(LowRisk|Recid)</th>\n",
       "      <td>0.427441</td>\n",
       "      <td>0.360587</td>\n",
       "      <td>0.519313</td>\n",
       "      <td>0.645833</td>\n",
       "      <td>0.707317</td>\n",
       "      <td>0.373228</td>\n",
       "    </tr>\n",
       "    <tr>\n",
       "      <th>P(HighRisk|Recid)</th>\n",
       "      <td>0.572559</td>\n",
       "      <td>0.639413</td>\n",
       "      <td>0.480687</td>\n",
       "      <td>0.354167</td>\n",
       "      <td>0.292683</td>\n",
       "      <td>0.626772</td>\n",
       "    </tr>\n",
       "  </tbody>\n",
       "</table>\n",
       "</div>"
      ],
      "text/plain": [
       "                      overall  African-American  Caucasian  Hispanic  \\\n",
       "P(LowRisk|NoRecid)   0.744409          0.673118   0.801090  0.859813   \n",
       "P(HighRisk|NoRecid)  0.255591          0.326882   0.198910  0.140187   \n",
       "P(LowRisk|Recid)     0.427441          0.360587   0.519313  0.645833   \n",
       "P(HighRisk|Recid)    0.572559          0.639413   0.480687  0.354167   \n",
       "\n",
       "                       Female      Male  \n",
       "P(LowRisk|NoRecid)   0.924107  0.688112  \n",
       "P(HighRisk|NoRecid)  0.075893  0.311888  \n",
       "P(LowRisk|Recid)     0.707317  0.373228  \n",
       "P(HighRisk|Recid)    0.292683  0.626772  "
      ]
     },
     "metadata": {},
     "output_type": "display_data"
    },
    {
     "data": {
      "image/png": "[encoded data removed]",
      "text/plain": [
       "<Figure size 864x432 with 6 Axes>"
      ]
     },
     "metadata": {
      "needs_background": "light"
     },
     "output_type": "display_data"
    },
    {
     "data": {
      "image/png": "[encoded data removed]",
      "text/plain": [
       "<Figure size 864x432 with 4 Axes>"
      ]
     },
     "metadata": {
      "needs_background": "light"
     },
     "output_type": "display_data"
    }
   ],
   "source": [
    "output, given_outcome, given_pred =cm_tables(\n",
    "    lasso_mod.predict(X_test),\n",
    "    y_test,\n",
    "    df_test\n",
    ")\n",
    "display(output)\n",
    "display(given_pred)\n",
    "display(given_outcome)\n",
    "\n",
    "calibration_plot(lasso_mod.predict_proba(X_test)[:,1],y_test, df_test)\n",
    "balance_threshold_plot(lasso_mod.predict_proba(X_test)[:,1],y_test, df_test);"
   ]
  },
  {
   "cell_type": "markdown",
   "metadata": {},
   "source": [
    "As with COMPAS score, our predictions are well-calibrated, but the\n",
    "false negative and false positive rates are not well balanced across\n",
    "racial groups.\n",
    "\n",
    "\n",
    "<a id='exercise-2'></a>\n",
    "> See exercise 3 in the [*exercise list*](#exerciselist-0)"
   ]
  },
  {
   "cell_type": "code",
   "execution_count": 41,
   "metadata": {
    "hide-output": false
   },
   "outputs": [],
   "source": [
    "# Fit your prediction model and plot calibration and balance"
   ]
  },
  {
   "cell_type": "markdown",
   "metadata": {},
   "source": [
    "### Regularizing to Maximize Balance\n",
    "\n",
    "Trying to improve balance by ad-hoc modifications will be\n",
    "difficult.\n",
    "\n",
    "Let’s try to do it more systematically.\n",
    "\n",
    "We usually select models and choose regularization to minimize prediction errors.\n",
    "\n",
    "We can just as well select models and regularization parameters to optimize\n",
    "some other criteria.\n",
    "\n",
    "Let’s choose the regularization parameter for lasso to maximize balance."
   ]
  },
  {
   "cell_type": "code",
   "execution_count": 42,
   "metadata": {
    "hide-output": false
   },
   "outputs": [
    {
     "name": "stdout",
     "output_type": "stream",
     "text": [
      "Fitting 5 folds for each of 10 candidates, totalling 50 fits\n"
     ]
    },
    {
     "name": "stderr",
     "output_type": "stream",
     "text": [
      "[Parallel(n_jobs=1)]: Using backend SequentialBackend with 1 concurrent workers.\n"
     ]
    },
    {
     "name": "stderr",
     "output_type": "stream",
     "text": [
      "[Parallel(n_jobs=1)]: Done  50 out of  50 | elapsed:   12.2s finished\n"
     ]
    }
   ],
   "source": [
    "# define a custom CV criteria to maximize\n",
    "def balance_scorer(y_true, prob, df, weights):\n",
    "    ind = df.isin(y_true.index)\n",
    "    df_cv = df.loc[y_true.index.values,:]\n",
    "    b = df_cv.race==\"African-American\"\n",
    "    w = df_cv.race==\"Caucasian\"\n",
    "    y_pred = 1*(prob>0.5)\n",
    "    fprb = np.mean(y_pred[(y_true==0) & b])\n",
    "    fprw = np.mean(y_pred[(y_true==0) & w])\n",
    "    fnrb = np.mean(y_pred[(y_true==1) & b]==0)\n",
    "    fnrw = np.mean(y_pred[(y_true==1) & w]==0)\n",
    "    return(-weights[0]*(fprb-fprw)**2 +\n",
    "           -weights[1]*(fnrb-fnrw)**2 +\n",
    "           -weights[2]*(metrics.log_loss(y_true, prob, normalize=True)))\n",
    "\n",
    "score_params = {\"df\": df_train, \"weights\": [10.0, 1.0, 0.0]}\n",
    "scorer = metrics.make_scorer(balance_scorer, **score_params, needs_proba=True)\n",
    "grid_cv = model_selection.GridSearchCV(\n",
    "    estimator=linear_model.LogisticRegression(penalty=\"l1\",\n",
    "                                              max_iter=100,\n",
    "                                              solver=\"liblinear\"),\n",
    "    scoring=scorer,\n",
    "    cv=5,\n",
    "    param_grid={'C':\n",
    "    np.exp(np.linspace(-10,10,10))},\n",
    "    return_train_score=True,\n",
    "    verbose=True,\n",
    "    refit=True,\n",
    "    iid=True)\n",
    "\n",
    "balance_mod=grid_cv.fit(X_train,y_train)"
   ]
  },
  {
   "cell_type": "code",
   "execution_count": 43,
   "metadata": {
    "hide-output": false
   },
   "outputs": [
    {
     "data": {
      "image/png": "[encoded data removed]",
      "text/plain": [
       "<Figure size 432x288 with 1 Axes>"
      ]
     },
     "metadata": {
      "needs_background": "light"
     },
     "output_type": "display_data"
    }
   ],
   "source": [
    "# plots illustrating regularization parameter choice\n",
    "def grid_cv_plot(mod, ylabel=\"\"):\n",
    "    scores=mod.cv_results_[\"mean_test_score\"]\n",
    "    Cdict=mod.cv_results_[\"params\"]\n",
    "    logpenalties=np.log([d['C'] for d in Cdict])\n",
    "    colors=plt.rcParams[\"axes.prop_cycle\"].by_key()[\"color\"]\n",
    "    fig, ax1 = plt.subplots()\n",
    "    ax1.plot(logpenalties,scores, color=colors[0])\n",
    "    ax1.set_ylabel(ylabel, color=colors[0])\n",
    "    ax1.set_xlabel(\"-log(penalty)\")\n",
    "    ax1.tick_params('y', colors=colors[0]);\n",
    "grid_cv_plot(balance_mod,\"CV balance score\")"
   ]
  },
  {
   "cell_type": "markdown",
   "metadata": {},
   "source": [
    "We can be perfectly balanced by making the regularization parameter\n",
    "very large.\n",
    "\n",
    "Unfortunately, this makes all the predictions identical, so these predictions\n",
    "are not so useful."
   ]
  },
  {
   "cell_type": "code",
   "execution_count": 44,
   "metadata": {
    "hide-output": false
   },
   "outputs": [
    {
     "name": "stderr",
     "output_type": "stream",
     "text": [
      "/home/ubuntu/anaconda3/lib/python3.7/site-packages/ipykernel_launcher.py:44: RuntimeWarning: invalid value encountered in true_divide\n"
     ]
    },
    {
     "data": {
      "text/html": [
       "<div>\n",
       "<style scoped>\n",
       "    .dataframe tbody tr th:only-of-type {\n",
       "        vertical-align: middle;\n",
       "    }\n",
       "\n",
       "    .dataframe tbody tr th {\n",
       "        vertical-align: top;\n",
       "    }\n",
       "\n",
       "    .dataframe thead th {\n",
       "        text-align: right;\n",
       "    }\n",
       "</style>\n",
       "<table border=\"1\" class=\"dataframe\">\n",
       "  <thead>\n",
       "    <tr style=\"text-align: right;\">\n",
       "      <th></th>\n",
       "      <th>overall</th>\n",
       "      <th>African-American</th>\n",
       "      <th>Caucasian</th>\n",
       "      <th>Hispanic</th>\n",
       "      <th>Female</th>\n",
       "      <th>Male</th>\n",
       "    </tr>\n",
       "  </thead>\n",
       "  <tbody>\n",
       "    <tr>\n",
       "      <th>Portion_of_NoRecid_and_LowRisk</th>\n",
       "      <td>0.553329</td>\n",
       "      <td>0.493631</td>\n",
       "      <td>0.611667</td>\n",
       "      <td>0.690323</td>\n",
       "      <td>0.645533</td>\n",
       "      <td>0.52963</td>\n",
       "    </tr>\n",
       "    <tr>\n",
       "      <th>Portion_of_Recid_and_LowRisk</th>\n",
       "      <td>0.000000</td>\n",
       "      <td>0.000000</td>\n",
       "      <td>0.000000</td>\n",
       "      <td>0.000000</td>\n",
       "      <td>0.000000</td>\n",
       "      <td>0.00000</td>\n",
       "    </tr>\n",
       "    <tr>\n",
       "      <th>Portion_of_NoRecid_and_HighRisk</th>\n",
       "      <td>0.446671</td>\n",
       "      <td>0.506369</td>\n",
       "      <td>0.388333</td>\n",
       "      <td>0.309677</td>\n",
       "      <td>0.354467</td>\n",
       "      <td>0.47037</td>\n",
       "    </tr>\n",
       "    <tr>\n",
       "      <th>Portion_of_Recid_and_HighRisk</th>\n",
       "      <td>0.000000</td>\n",
       "      <td>0.000000</td>\n",
       "      <td>0.000000</td>\n",
       "      <td>0.000000</td>\n",
       "      <td>0.000000</td>\n",
       "      <td>0.00000</td>\n",
       "    </tr>\n",
       "  </tbody>\n",
       "</table>\n",
       "</div>"
      ],
      "text/plain": [
       "                                  overall  African-American  Caucasian  \\\n",
       "Portion_of_NoRecid_and_LowRisk   0.553329          0.493631   0.611667   \n",
       "Portion_of_Recid_and_LowRisk     0.000000          0.000000   0.000000   \n",
       "Portion_of_NoRecid_and_HighRisk  0.446671          0.506369   0.388333   \n",
       "Portion_of_Recid_and_HighRisk    0.000000          0.000000   0.000000   \n",
       "\n",
       "                                 Hispanic    Female     Male  \n",
       "Portion_of_NoRecid_and_LowRisk   0.690323  0.645533  0.52963  \n",
       "Portion_of_Recid_and_LowRisk     0.000000  0.000000  0.00000  \n",
       "Portion_of_NoRecid_and_HighRisk  0.309677  0.354467  0.47037  \n",
       "Portion_of_Recid_and_HighRisk    0.000000  0.000000  0.00000  "
      ]
     },
     "metadata": {},
     "output_type": "display_data"
    },
    {
     "data": {
      "text/html": [
       "<div>\n",
       "<style scoped>\n",
       "    .dataframe tbody tr th:only-of-type {\n",
       "        vertical-align: middle;\n",
       "    }\n",
       "\n",
       "    .dataframe tbody tr th {\n",
       "        vertical-align: top;\n",
       "    }\n",
       "\n",
       "    .dataframe thead th {\n",
       "        text-align: right;\n",
       "    }\n",
       "</style>\n",
       "<table border=\"1\" class=\"dataframe\">\n",
       "  <thead>\n",
       "    <tr style=\"text-align: right;\">\n",
       "      <th></th>\n",
       "      <th>overall</th>\n",
       "      <th>African-American</th>\n",
       "      <th>Caucasian</th>\n",
       "      <th>Hispanic</th>\n",
       "      <th>Female</th>\n",
       "      <th>Male</th>\n",
       "    </tr>\n",
       "  </thead>\n",
       "  <tbody>\n",
       "    <tr>\n",
       "      <th>P(NoRecid|LowRisk)</th>\n",
       "      <td>0.553329</td>\n",
       "      <td>0.493631</td>\n",
       "      <td>0.611667</td>\n",
       "      <td>0.690323</td>\n",
       "      <td>0.645533</td>\n",
       "      <td>0.52963</td>\n",
       "    </tr>\n",
       "    <tr>\n",
       "      <th>P(NoRecid|HighRisk)</th>\n",
       "      <td>NaN</td>\n",
       "      <td>NaN</td>\n",
       "      <td>NaN</td>\n",
       "      <td>NaN</td>\n",
       "      <td>NaN</td>\n",
       "      <td>NaN</td>\n",
       "    </tr>\n",
       "    <tr>\n",
       "      <th>P(Recid|LowRisk)</th>\n",
       "      <td>0.446671</td>\n",
       "      <td>0.506369</td>\n",
       "      <td>0.388333</td>\n",
       "      <td>0.309677</td>\n",
       "      <td>0.354467</td>\n",
       "      <td>0.47037</td>\n",
       "    </tr>\n",
       "    <tr>\n",
       "      <th>P(Recid|HighRisk)</th>\n",
       "      <td>NaN</td>\n",
       "      <td>NaN</td>\n",
       "      <td>NaN</td>\n",
       "      <td>NaN</td>\n",
       "      <td>NaN</td>\n",
       "      <td>NaN</td>\n",
       "    </tr>\n",
       "  </tbody>\n",
       "</table>\n",
       "</div>"
      ],
      "text/plain": [
       "                      overall  African-American  Caucasian  Hispanic  \\\n",
       "P(NoRecid|LowRisk)   0.553329          0.493631   0.611667  0.690323   \n",
       "P(NoRecid|HighRisk)       NaN               NaN        NaN       NaN   \n",
       "P(Recid|LowRisk)     0.446671          0.506369   0.388333  0.309677   \n",
       "P(Recid|HighRisk)         NaN               NaN        NaN       NaN   \n",
       "\n",
       "                       Female     Male  \n",
       "P(NoRecid|LowRisk)   0.645533  0.52963  \n",
       "P(NoRecid|HighRisk)       NaN      NaN  \n",
       "P(Recid|LowRisk)     0.354467  0.47037  \n",
       "P(Recid|HighRisk)         NaN      NaN  "
      ]
     },
     "metadata": {},
     "output_type": "display_data"
    },
    {
     "data": {
      "text/html": [
       "<div>\n",
       "<style scoped>\n",
       "    .dataframe tbody tr th:only-of-type {\n",
       "        vertical-align: middle;\n",
       "    }\n",
       "\n",
       "    .dataframe tbody tr th {\n",
       "        vertical-align: top;\n",
       "    }\n",
       "\n",
       "    .dataframe thead th {\n",
       "        text-align: right;\n",
       "    }\n",
       "</style>\n",
       "<table border=\"1\" class=\"dataframe\">\n",
       "  <thead>\n",
       "    <tr style=\"text-align: right;\">\n",
       "      <th></th>\n",
       "      <th>overall</th>\n",
       "      <th>African-American</th>\n",
       "      <th>Caucasian</th>\n",
       "      <th>Hispanic</th>\n",
       "      <th>Female</th>\n",
       "      <th>Male</th>\n",
       "    </tr>\n",
       "  </thead>\n",
       "  <tbody>\n",
       "    <tr>\n",
       "      <th>P(LowRisk|NoRecid)</th>\n",
       "      <td>1.0</td>\n",
       "      <td>1.0</td>\n",
       "      <td>1.0</td>\n",
       "      <td>1.0</td>\n",
       "      <td>1.0</td>\n",
       "      <td>1.0</td>\n",
       "    </tr>\n",
       "    <tr>\n",
       "      <th>P(HighRisk|NoRecid)</th>\n",
       "      <td>0.0</td>\n",
       "      <td>0.0</td>\n",
       "      <td>0.0</td>\n",
       "      <td>0.0</td>\n",
       "      <td>0.0</td>\n",
       "      <td>0.0</td>\n",
       "    </tr>\n",
       "    <tr>\n",
       "      <th>P(LowRisk|Recid)</th>\n",
       "      <td>1.0</td>\n",
       "      <td>1.0</td>\n",
       "      <td>1.0</td>\n",
       "      <td>1.0</td>\n",
       "      <td>1.0</td>\n",
       "      <td>1.0</td>\n",
       "    </tr>\n",
       "    <tr>\n",
       "      <th>P(HighRisk|Recid)</th>\n",
       "      <td>0.0</td>\n",
       "      <td>0.0</td>\n",
       "      <td>0.0</td>\n",
       "      <td>0.0</td>\n",
       "      <td>0.0</td>\n",
       "      <td>0.0</td>\n",
       "    </tr>\n",
       "  </tbody>\n",
       "</table>\n",
       "</div>"
      ],
      "text/plain": [
       "                     overall  African-American  Caucasian  Hispanic  Female  \\\n",
       "P(LowRisk|NoRecid)       1.0               1.0        1.0       1.0     1.0   \n",
       "P(HighRisk|NoRecid)      0.0               0.0        0.0       0.0     0.0   \n",
       "P(LowRisk|Recid)         1.0               1.0        1.0       1.0     1.0   \n",
       "P(HighRisk|Recid)        0.0               0.0        0.0       0.0     0.0   \n",
       "\n",
       "                     Male  \n",
       "P(LowRisk|NoRecid)    1.0  \n",
       "P(HighRisk|NoRecid)   0.0  \n",
       "P(LowRisk|Recid)      1.0  \n",
       "P(HighRisk|Recid)     0.0  "
      ]
     },
     "metadata": {},
     "output_type": "display_data"
    }
   ],
   "source": [
    "output, given_outcome, given_pred =cm_tables(\n",
    "    balance_mod.best_estimator_.predict(X_test),\n",
    "    y_test,\n",
    "    df_test\n",
    ")\n",
    "display(output)\n",
    "display(given_pred)\n",
    "display(given_outcome)"
   ]
  },
  {
   "cell_type": "markdown",
   "metadata": {},
   "source": [
    "What if we change our CV scoring function to care about both\n",
    "prediction and balance?"
   ]
  },
  {
   "cell_type": "code",
   "execution_count": 45,
   "metadata": {
    "hide-output": false
   },
   "outputs": [
    {
     "name": "stderr",
     "output_type": "stream",
     "text": [
      "[Parallel(n_jobs=1)]: Using backend SequentialBackend with 1 concurrent workers.\n"
     ]
    },
    {
     "name": "stdout",
     "output_type": "stream",
     "text": [
      "Fitting 5 folds for each of 10 candidates, totalling 50 fits\n"
     ]
    },
    {
     "name": "stderr",
     "output_type": "stream",
     "text": [
      "[Parallel(n_jobs=1)]: Done  50 out of  50 | elapsed:   11.7s finished\n"
     ]
    },
    {
     "data": {
      "text/html": [
       "<div>\n",
       "<style scoped>\n",
       "    .dataframe tbody tr th:only-of-type {\n",
       "        vertical-align: middle;\n",
       "    }\n",
       "\n",
       "    .dataframe tbody tr th {\n",
       "        vertical-align: top;\n",
       "    }\n",
       "\n",
       "    .dataframe thead th {\n",
       "        text-align: right;\n",
       "    }\n",
       "</style>\n",
       "<table border=\"1\" class=\"dataframe\">\n",
       "  <thead>\n",
       "    <tr style=\"text-align: right;\">\n",
       "      <th></th>\n",
       "      <th>overall</th>\n",
       "      <th>African-American</th>\n",
       "      <th>Caucasian</th>\n",
       "      <th>Hispanic</th>\n",
       "      <th>Female</th>\n",
       "      <th>Male</th>\n",
       "    </tr>\n",
       "  </thead>\n",
       "  <tbody>\n",
       "    <tr>\n",
       "      <th>Portion_of_NoRecid_and_LowRisk</th>\n",
       "      <td>0.405421</td>\n",
       "      <td>0.328025</td>\n",
       "      <td>0.483333</td>\n",
       "      <td>0.574194</td>\n",
       "      <td>0.561960</td>\n",
       "      <td>0.365185</td>\n",
       "    </tr>\n",
       "    <tr>\n",
       "      <th>Portion_of_Recid_and_LowRisk</th>\n",
       "      <td>0.147908</td>\n",
       "      <td>0.165605</td>\n",
       "      <td>0.128333</td>\n",
       "      <td>0.116129</td>\n",
       "      <td>0.083573</td>\n",
       "      <td>0.164444</td>\n",
       "    </tr>\n",
       "    <tr>\n",
       "      <th>Portion_of_NoRecid_and_HighRisk</th>\n",
       "      <td>0.189747</td>\n",
       "      <td>0.181529</td>\n",
       "      <td>0.200000</td>\n",
       "      <td>0.200000</td>\n",
       "      <td>0.239193</td>\n",
       "      <td>0.177037</td>\n",
       "    </tr>\n",
       "    <tr>\n",
       "      <th>Portion_of_Recid_and_HighRisk</th>\n",
       "      <td>0.256924</td>\n",
       "      <td>0.324841</td>\n",
       "      <td>0.188333</td>\n",
       "      <td>0.109677</td>\n",
       "      <td>0.115274</td>\n",
       "      <td>0.293333</td>\n",
       "    </tr>\n",
       "  </tbody>\n",
       "</table>\n",
       "</div>"
      ],
      "text/plain": [
       "                                  overall  African-American  Caucasian  \\\n",
       "Portion_of_NoRecid_and_LowRisk   0.405421          0.328025   0.483333   \n",
       "Portion_of_Recid_and_LowRisk     0.147908          0.165605   0.128333   \n",
       "Portion_of_NoRecid_and_HighRisk  0.189747          0.181529   0.200000   \n",
       "Portion_of_Recid_and_HighRisk    0.256924          0.324841   0.188333   \n",
       "\n",
       "                                 Hispanic    Female      Male  \n",
       "Portion_of_NoRecid_and_LowRisk   0.574194  0.561960  0.365185  \n",
       "Portion_of_Recid_and_LowRisk     0.116129  0.083573  0.164444  \n",
       "Portion_of_NoRecid_and_HighRisk  0.200000  0.239193  0.177037  \n",
       "Portion_of_Recid_and_HighRisk    0.109677  0.115274  0.293333  "
      ]
     },
     "metadata": {},
     "output_type": "display_data"
    },
    {
     "data": {
      "text/html": [
       "<div>\n",
       "<style scoped>\n",
       "    .dataframe tbody tr th:only-of-type {\n",
       "        vertical-align: middle;\n",
       "    }\n",
       "\n",
       "    .dataframe tbody tr th {\n",
       "        vertical-align: top;\n",
       "    }\n",
       "\n",
       "    .dataframe thead th {\n",
       "        text-align: right;\n",
       "    }\n",
       "</style>\n",
       "<table border=\"1\" class=\"dataframe\">\n",
       "  <thead>\n",
       "    <tr style=\"text-align: right;\">\n",
       "      <th></th>\n",
       "      <th>overall</th>\n",
       "      <th>African-American</th>\n",
       "      <th>Caucasian</th>\n",
       "      <th>Hispanic</th>\n",
       "      <th>Female</th>\n",
       "      <th>Male</th>\n",
       "    </tr>\n",
       "  </thead>\n",
       "  <tbody>\n",
       "    <tr>\n",
       "      <th>P(NoRecid|LowRisk)</th>\n",
       "      <td>0.681188</td>\n",
       "      <td>0.643750</td>\n",
       "      <td>0.707317</td>\n",
       "      <td>0.741667</td>\n",
       "      <td>0.701439</td>\n",
       "      <td>0.673497</td>\n",
       "    </tr>\n",
       "    <tr>\n",
       "      <th>P(NoRecid|HighRisk)</th>\n",
       "      <td>0.365357</td>\n",
       "      <td>0.337662</td>\n",
       "      <td>0.405263</td>\n",
       "      <td>0.514286</td>\n",
       "      <td>0.420290</td>\n",
       "      <td>0.359223</td>\n",
       "    </tr>\n",
       "    <tr>\n",
       "      <th>P(Recid|LowRisk)</th>\n",
       "      <td>0.318812</td>\n",
       "      <td>0.356250</td>\n",
       "      <td>0.292683</td>\n",
       "      <td>0.258333</td>\n",
       "      <td>0.298561</td>\n",
       "      <td>0.326503</td>\n",
       "    </tr>\n",
       "    <tr>\n",
       "      <th>P(Recid|HighRisk)</th>\n",
       "      <td>0.634643</td>\n",
       "      <td>0.662338</td>\n",
       "      <td>0.594737</td>\n",
       "      <td>0.485714</td>\n",
       "      <td>0.579710</td>\n",
       "      <td>0.640777</td>\n",
       "    </tr>\n",
       "  </tbody>\n",
       "</table>\n",
       "</div>"
      ],
      "text/plain": [
       "                      overall  African-American  Caucasian  Hispanic  \\\n",
       "P(NoRecid|LowRisk)   0.681188          0.643750   0.707317  0.741667   \n",
       "P(NoRecid|HighRisk)  0.365357          0.337662   0.405263  0.514286   \n",
       "P(Recid|LowRisk)     0.318812          0.356250   0.292683  0.258333   \n",
       "P(Recid|HighRisk)    0.634643          0.662338   0.594737  0.485714   \n",
       "\n",
       "                       Female      Male  \n",
       "P(NoRecid|LowRisk)   0.701439  0.673497  \n",
       "P(NoRecid|HighRisk)  0.420290  0.359223  \n",
       "P(Recid|LowRisk)     0.298561  0.326503  \n",
       "P(Recid|HighRisk)    0.579710  0.640777  "
      ]
     },
     "metadata": {},
     "output_type": "display_data"
    },
    {
     "data": {
      "text/html": [
       "<div>\n",
       "<style scoped>\n",
       "    .dataframe tbody tr th:only-of-type {\n",
       "        vertical-align: middle;\n",
       "    }\n",
       "\n",
       "    .dataframe tbody tr th {\n",
       "        vertical-align: top;\n",
       "    }\n",
       "\n",
       "    .dataframe thead th {\n",
       "        text-align: right;\n",
       "    }\n",
       "</style>\n",
       "<table border=\"1\" class=\"dataframe\">\n",
       "  <thead>\n",
       "    <tr style=\"text-align: right;\">\n",
       "      <th></th>\n",
       "      <th>overall</th>\n",
       "      <th>African-American</th>\n",
       "      <th>Caucasian</th>\n",
       "      <th>Hispanic</th>\n",
       "      <th>Female</th>\n",
       "      <th>Male</th>\n",
       "    </tr>\n",
       "  </thead>\n",
       "  <tbody>\n",
       "    <tr>\n",
       "      <th>P(LowRisk|NoRecid)</th>\n",
       "      <td>0.732694</td>\n",
       "      <td>0.664516</td>\n",
       "      <td>0.790191</td>\n",
       "      <td>0.831776</td>\n",
       "      <td>0.870536</td>\n",
       "      <td>0.689510</td>\n",
       "    </tr>\n",
       "    <tr>\n",
       "      <th>P(HighRisk|NoRecid)</th>\n",
       "      <td>0.267306</td>\n",
       "      <td>0.335484</td>\n",
       "      <td>0.209809</td>\n",
       "      <td>0.168224</td>\n",
       "      <td>0.129464</td>\n",
       "      <td>0.310490</td>\n",
       "    </tr>\n",
       "    <tr>\n",
       "      <th>P(LowRisk|Recid)</th>\n",
       "      <td>0.424802</td>\n",
       "      <td>0.358491</td>\n",
       "      <td>0.515021</td>\n",
       "      <td>0.645833</td>\n",
       "      <td>0.674797</td>\n",
       "      <td>0.376378</td>\n",
       "    </tr>\n",
       "    <tr>\n",
       "      <th>P(HighRisk|Recid)</th>\n",
       "      <td>0.575198</td>\n",
       "      <td>0.641509</td>\n",
       "      <td>0.484979</td>\n",
       "      <td>0.354167</td>\n",
       "      <td>0.325203</td>\n",
       "      <td>0.623622</td>\n",
       "    </tr>\n",
       "  </tbody>\n",
       "</table>\n",
       "</div>"
      ],
      "text/plain": [
       "                      overall  African-American  Caucasian  Hispanic  \\\n",
       "P(LowRisk|NoRecid)   0.732694          0.664516   0.790191  0.831776   \n",
       "P(HighRisk|NoRecid)  0.267306          0.335484   0.209809  0.168224   \n",
       "P(LowRisk|Recid)     0.424802          0.358491   0.515021  0.645833   \n",
       "P(HighRisk|Recid)    0.575198          0.641509   0.484979  0.354167   \n",
       "\n",
       "                       Female      Male  \n",
       "P(LowRisk|NoRecid)   0.870536  0.689510  \n",
       "P(HighRisk|NoRecid)  0.129464  0.310490  \n",
       "P(LowRisk|Recid)     0.674797  0.376378  \n",
       "P(HighRisk|Recid)    0.325203  0.623622  "
      ]
     },
     "metadata": {},
     "output_type": "display_data"
    },
    {
     "data": {
      "image/png": "[encoded data removed]",
      "text/plain": [
       "<Figure size 432x288 with 1 Axes>"
      ]
     },
     "metadata": {
      "needs_background": "light"
     },
     "output_type": "display_data"
    },
    {
     "data": {
      "image/png": "[encoded data removed]",
      "text/plain": [
       "<Figure size 864x432 with 6 Axes>"
      ]
     },
     "metadata": {
      "needs_background": "light"
     },
     "output_type": "display_data"
    },
    {
     "data": {
      "image/png": "[encoded data removed]",
      "text/plain": [
       "<Figure size 864x432 with 4 Axes>"
      ]
     },
     "metadata": {
      "needs_background": "light"
     },
     "output_type": "display_data"
    }
   ],
   "source": [
    "score_params = {\"df\": df_train, \"weights\": [10.0, 1.0, 5.0]}\n",
    "grid_cv.set_params(scoring=metrics.make_scorer(balance_scorer, **score_params, needs_proba=True))\n",
    "bf_mod=grid_cv.fit(X_train,y_train)\n",
    "grid_cv_plot(bf_mod,\"CV balance & fit\")\n",
    "\n",
    "output, given_outcome, given_pred =cm_tables(\n",
    "    bf_mod.best_estimator_.predict(X_test),\n",
    "    y_test,\n",
    "    df_test\n",
    ")\n",
    "display(output)\n",
    "display(given_pred)\n",
    "display(given_outcome)\n",
    "calibration_plot(bf_mod.best_estimator_.predict_proba(X_test)[:,1],y_test, df_test)\n",
    "balance_threshold_plot(bf_mod.best_estimator_.predict_proba(X_test)[:,1],y_test, df_test);"
   ]
  },
  {
   "cell_type": "markdown",
   "metadata": {},
   "source": [
    "\n",
    "<a id='exercise-3'></a>\n",
    "> See exercise 4 in the [*exercise list*](#exerciselist-0)"
   ]
  },
  {
   "cell_type": "markdown",
   "metadata": {},
   "source": [
    "### Tradeoffs are Inevitable\n",
    "\n",
    "We could try to tweak our predictions further to improve\n",
    "balance.\n",
    "\n",
    "However, motivated in part by this COMPAS example, [[recidKLL+17]](#kleinberg2017) proved\n",
    "that it is impossible for any prediction algorithm to be both perfectly\n",
    "balanced and well-calibrated.\n",
    "\n",
    "Improvements in balance necessarily make calibration worse."
   ]
  },
  {
   "cell_type": "markdown",
   "metadata": {},
   "source": [
    "## References\n",
    "\n",
    "<a id='dieterich2016'></a>\n",
    "\\[recidDMB16\\] William Dieterich, Christina Mendoza, and Tim Brennan. Compas risk scales: demonstrating accuracy equity and predictive parity. *Northpoint Inc*, 2016.\n",
    "\n",
    "<a id='kleinberg2017'></a>\n",
    "\\[recidKLL+17\\] Jon Kleinberg, Himabindu Lakkaraju, Jure Leskovec, Jens Ludwig, and Sendhil Mullainathan. Human Decisions and Machine Predictions*. *The Quarterly Journal of Economics*, 133(1):237–293, 08 2017. URL: [https://dx.doi.org/10.1093/qje/qjx032](https://dx.doi.org/10.1093/qje/qjx032), [arXiv:http://oup.prod.sis.lan/qje/article-pdf/133/1/237/24246094/qjx032.pdf](https://arxiv.org/abs/http://oup.prod.sis.lan/qje/article-pdf/133/1/237/24246094/qjx032.pdf), [doi:10.1093/qje/qjx032](https://doi.org/10.1093/qje/qjx032)."
   ]
  },
  {
   "cell_type": "markdown",
   "metadata": {},
   "source": [
    "## Exercises\n",
    "\n",
    "\n",
    "<a id='exerciselist-0'></a>\n",
    "**Exercise 1**\n",
    "\n",
    "Can you develop a model that performs better at mimicking their risk scores?\n",
    "\n",
    "([*back to text*](#exercise-0))\n",
    "\n",
    "**Exercise 2**\n",
    "\n",
    "We made our calibration plot using a held-out test sample. What\n",
    "do you think would happen if made the calibration plot using the\n",
    "training sample? Check and see.\n",
    "\n",
    "([*back to text*](#exercise-1))\n",
    "\n",
    "**Exercise 3**\n",
    "\n",
    "Try to improve balance and/or calibration by creating an\n",
    "alternative prediction.\n",
    "\n",
    "([*back to text*](#exercise-2))\n",
    "\n",
    "**Exercise 4**\n",
    "\n",
    "Modify the cross-validation scoring function to see how it affects\n",
    "calibration and balance.\n",
    "\n",
    "([*back to text*](#exercise-3))"
   ]
  }
 ],
 "metadata": {
  "date": 1585786526.9615269,
  "download_nb": false,
  "filename": "recidivism.rst",
  "filename_with_path": "applications/recidivism",
  "kernelspec": {
   "display_name": "Python",
   "language": "python3",
   "name": "python3"
  },
  "language_info": {
   "codemirror_mode": {
    "name": "ipython",
    "version": 3
   },
   "file_extension": ".py",
   "mimetype": "text/x-python",
   "name": "python",
   "nbconvert_exporter": "python",
   "pygments_lexer": "ipython3",
   "version": "3.7.3"
  },
  "title": "Case Study: Recidivism"
 },
 "nbformat": 4,
 "nbformat_minor": 2
}
